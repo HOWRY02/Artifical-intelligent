{
 "cells": [
  {
   "attachments": {},
   "cell_type": "markdown",
   "metadata": {},
   "source": [
    "# 1. Import and Install Dependencies"
   ]
  },
  {
   "cell_type": "code",
   "execution_count": 3,
   "metadata": {},
   "outputs": [],
   "source": [
    "# !pip install tensorflow==2.4.1 tensorflow-gpu==2.4.1 opencv-python mediapipe sklearn matplotlib"
   ]
  },
  {
   "cell_type": "code",
   "execution_count": 1,
   "metadata": {},
   "outputs": [],
   "source": [
    "import os\n",
    "import cv2\n",
    "import time\n",
    "import numpy as np\n",
    "import mediapipe as mp\n",
    "from matplotlib import pyplot as plt"
   ]
  },
  {
   "cell_type": "markdown",
   "metadata": {},
   "source": [
    "# 2. Keypoints using MP Holistic"
   ]
  },
  {
   "cell_type": "code",
   "execution_count": 2,
   "metadata": {},
   "outputs": [],
   "source": [
    "mp_holistic = mp.solutions.holistic # Holistic model\n",
    "mp_drawing = mp.solutions.drawing_utils # Drawing utilities"
   ]
  },
  {
   "cell_type": "code",
   "execution_count": 3,
   "metadata": {},
   "outputs": [],
   "source": [
    "def mediapipe_detection(image, model):\n",
    "    image = cv2.cvtColor(image, cv2.COLOR_BGR2RGB) # COLOR CONVERSION BGR 2 RGB\n",
    "    image.flags.writeable = False                  # Image is no longer writeable\n",
    "    results = model.process(image)                 # Make prediction\n",
    "    image.flags.writeable = True                   # Image is now writeable \n",
    "    image = cv2.cvtColor(image, cv2.COLOR_RGB2BGR) # COLOR COVERSION RGB 2 BGR\n",
    "    return image, results"
   ]
  },
  {
   "cell_type": "code",
   "execution_count": 4,
   "metadata": {},
   "outputs": [],
   "source": [
    "def draw_landmarks(image, results):\n",
    "    mp_drawing.draw_landmarks(image, results.face_landmarks, mp_holistic.FACEMESH_TESSELATION) # Draw face connections\n",
    "    mp_drawing.draw_landmarks(image, results.pose_landmarks, mp_holistic.POSE_CONNECTIONS) # Draw pose connections\n",
    "    mp_drawing.draw_landmarks(image, results.left_hand_landmarks, mp_holistic.HAND_CONNECTIONS) # Draw left hand connections\n",
    "    mp_drawing.draw_landmarks(image, results.right_hand_landmarks, mp_holistic.HAND_CONNECTIONS) # Draw right hand connections"
   ]
  },
  {
   "cell_type": "code",
   "execution_count": 5,
   "metadata": {},
   "outputs": [],
   "source": [
    "def draw_styled_landmarks(image, results):\n",
    "    # Draw face connections\n",
    "    mp_drawing.draw_landmarks(image, results.face_landmarks, mp_holistic.FACEMESH_TESSELATION, \n",
    "                             mp_drawing.DrawingSpec(color=(80,110,10), thickness=1, circle_radius=1), \n",
    "                             mp_drawing.DrawingSpec(color=(80,256,121), thickness=1, circle_radius=1)\n",
    "                             ) \n",
    "    # Draw pose connections\n",
    "    mp_drawing.draw_landmarks(image, results.pose_landmarks, mp_holistic.POSE_CONNECTIONS,\n",
    "                             mp_drawing.DrawingSpec(color=(80,22,10), thickness=2, circle_radius=4), \n",
    "                             mp_drawing.DrawingSpec(color=(80,44,121), thickness=2, circle_radius=2)\n",
    "                             ) \n",
    "    # Draw left hand connections\n",
    "    mp_drawing.draw_landmarks(image, results.left_hand_landmarks, mp_holistic.HAND_CONNECTIONS, \n",
    "                             mp_drawing.DrawingSpec(color=(121,22,76), thickness=2, circle_radius=4), \n",
    "                             mp_drawing.DrawingSpec(color=(121,44,250), thickness=2, circle_radius=2)\n",
    "                             ) \n",
    "    # Draw right hand connections  \n",
    "    mp_drawing.draw_landmarks(image, results.right_hand_landmarks, mp_holistic.HAND_CONNECTIONS, \n",
    "                             mp_drawing.DrawingSpec(color=(245,117,66), thickness=2, circle_radius=4), \n",
    "                             mp_drawing.DrawingSpec(color=(245,66,230), thickness=2, circle_radius=2)\n",
    "                             ) "
   ]
  },
  {
   "cell_type": "code",
   "execution_count": 6,
   "metadata": {},
   "outputs": [
    {
     "name": "stdout",
     "output_type": "stream",
     "text": [
      "<class 'mediapipe.python.solution_base.SolutionOutputs'>\n",
      "<class 'mediapipe.python.solution_base.SolutionOutputs'>\n",
      "<class 'mediapipe.python.solution_base.SolutionOutputs'>\n",
      "<class 'mediapipe.python.solution_base.SolutionOutputs'>\n",
      "<class 'mediapipe.python.solution_base.SolutionOutputs'>\n",
      "<class 'mediapipe.python.solution_base.SolutionOutputs'>\n",
      "<class 'mediapipe.python.solution_base.SolutionOutputs'>\n",
      "<class 'mediapipe.python.solution_base.SolutionOutputs'>\n",
      "<class 'mediapipe.python.solution_base.SolutionOutputs'>\n",
      "<class 'mediapipe.python.solution_base.SolutionOutputs'>\n",
      "<class 'mediapipe.python.solution_base.SolutionOutputs'>\n",
      "<class 'mediapipe.python.solution_base.SolutionOutputs'>\n",
      "<class 'mediapipe.python.solution_base.SolutionOutputs'>\n",
      "<class 'mediapipe.python.solution_base.SolutionOutputs'>\n",
      "<class 'mediapipe.python.solution_base.SolutionOutputs'>\n",
      "<class 'mediapipe.python.solution_base.SolutionOutputs'>\n",
      "<class 'mediapipe.python.solution_base.SolutionOutputs'>\n",
      "<class 'mediapipe.python.solution_base.SolutionOutputs'>\n",
      "<class 'mediapipe.python.solution_base.SolutionOutputs'>\n",
      "<class 'mediapipe.python.solution_base.SolutionOutputs'>\n",
      "<class 'mediapipe.python.solution_base.SolutionOutputs'>\n",
      "<class 'mediapipe.python.solution_base.SolutionOutputs'>\n",
      "<class 'mediapipe.python.solution_base.SolutionOutputs'>\n",
      "<class 'mediapipe.python.solution_base.SolutionOutputs'>\n",
      "<class 'mediapipe.python.solution_base.SolutionOutputs'>\n",
      "<class 'mediapipe.python.solution_base.SolutionOutputs'>\n",
      "<class 'mediapipe.python.solution_base.SolutionOutputs'>\n",
      "<class 'mediapipe.python.solution_base.SolutionOutputs'>\n",
      "<class 'mediapipe.python.solution_base.SolutionOutputs'>\n",
      "<class 'mediapipe.python.solution_base.SolutionOutputs'>\n",
      "<class 'mediapipe.python.solution_base.SolutionOutputs'>\n",
      "<class 'mediapipe.python.solution_base.SolutionOutputs'>\n",
      "<class 'mediapipe.python.solution_base.SolutionOutputs'>\n",
      "<class 'mediapipe.python.solution_base.SolutionOutputs'>\n"
     ]
    }
   ],
   "source": [
    "cap = cv2.VideoCapture(0)\n",
    "# Set mediapipe model \n",
    "with mp_holistic.Holistic(min_detection_confidence=0.5, min_tracking_confidence=0.5) as holistic:\n",
    "    while cap.isOpened():\n",
    "\n",
    "        # Read feed\n",
    "        ret, frame = cap.read()\n",
    "\n",
    "        # Make detections\n",
    "        image, results = mediapipe_detection(frame, holistic)\n",
    "        print(results)\n",
    "        \n",
    "        # Draw landmarks\n",
    "        draw_styled_landmarks(image, results)\n",
    "\n",
    "        # Show to screen\n",
    "        cv2.imshow('OpenCV Feed', image)\n",
    "\n",
    "        # Break gracefully\n",
    "        if cv2.waitKey(10) & 0xFF == ord('q'):\n",
    "            break\n",
    "    cap.release()\n",
    "    cv2.destroyAllWindows()"
   ]
  },
  {
   "cell_type": "code",
   "execution_count": 9,
   "metadata": {},
   "outputs": [
    {
     "data": {
      "text/plain": [
       "[x: 0.8015689849853516\n",
       "y: 0.5277738571166992\n",
       "z: 2.990668122038187e-07\n",
       ", x: 0.7439222931861877\n",
       "y: 0.5296551585197449\n",
       "z: -0.018140481784939766\n",
       ", x: 0.6888452172279358\n",
       "y: 0.5165485143661499\n",
       "z: -0.028225025162100792\n",
       ", x: 0.6459464430809021\n",
       "y: 0.5050259828567505\n",
       "z: -0.038399871438741684\n",
       ", x: 0.6149837970733643\n",
       "y: 0.49662700295448303\n",
       "z: -0.048275355249643326\n",
       ", x: 0.7011139392852783\n",
       "y: 0.4041970372200012\n",
       "z: -0.009902133606374264\n",
       ", x: 0.6745486259460449\n",
       "y: 0.3464593291282654\n",
       "z: -0.02334020659327507\n",
       ", x: 0.6605542898178101\n",
       "y: 0.30849987268447876\n",
       "z: -0.03615196421742439\n",
       ", x: 0.6496875286102295\n",
       "y: 0.27483686804771423\n",
       "z: -0.046261467039585114\n",
       ", x: 0.7283344268798828\n",
       "y: 0.37876421213150024\n",
       "z: -0.013636400923132896\n",
       ", x: 0.7016400098800659\n",
       "y: 0.31751981377601624\n",
       "z: -0.02521757036447525\n",
       ", x: 0.6853530406951904\n",
       "y: 0.27760493755340576\n",
       "z: -0.036677099764347076\n",
       ", x: 0.6716782450675964\n",
       "y: 0.24207155406475067\n",
       "z: -0.04596481844782829\n",
       ", x: 0.7600418329238892\n",
       "y: 0.36497962474823\n",
       "z: -0.021005092188715935\n",
       ", x: 0.7395062446594238\n",
       "y: 0.30140793323516846\n",
       "z: -0.03666459023952484\n",
       ", x: 0.7247061729431152\n",
       "y: 0.26281213760375977\n",
       "z: -0.04763512685894966\n",
       ", x: 0.7119839191436768\n",
       "y: 0.22977066040039062\n",
       "z: -0.05530202388763428\n",
       ", x: 0.7963743209838867\n",
       "y: 0.3631286323070526\n",
       "z: -0.030321432277560234\n",
       ", x: 0.8013373017311096\n",
       "y: 0.3062043786048889\n",
       "z: -0.04551031067967415\n",
       ", x: 0.8037512898445129\n",
       "y: 0.26736390590667725\n",
       "z: -0.053041111677885056\n",
       ", x: 0.8054037094116211\n",
       "y: 0.2322068065404892\n",
       "z: -0.058002784848213196\n",
       "]"
      ]
     },
     "execution_count": 9,
     "metadata": {},
     "output_type": "execute_result"
    }
   ],
   "source": [
    "results.left_hand_landmarks.landmark"
   ]
  },
  {
   "cell_type": "code",
   "execution_count": 10,
   "metadata": {},
   "outputs": [],
   "source": [
    "draw_landmarks(frame, results)"
   ]
  },
  {
   "cell_type": "code",
   "execution_count": 11,
   "metadata": {},
   "outputs": [
    {
     "data": {
      "text/plain": [
       "<matplotlib.image.AxesImage at 0x27d9f05d610>"
      ]
     },
     "execution_count": 11,
     "metadata": {},
     "output_type": "execute_result"
    },
    {
     "data": {
      "image/png": "[encoded data removed]",
      "text/plain": [
       "<Figure size 432x288 with 1 Axes>"
      ]
     },
     "metadata": {
      "needs_background": "light"
     },
     "output_type": "display_data"
    }
   ],
   "source": [
    "plt.imshow(cv2.cvtColor(frame, cv2.COLOR_BGR2RGB))"
   ]
  },
  {
   "cell_type": "markdown",
   "metadata": {},
   "source": [
    "# 3. Extract Keypoint Values"
   ]
  },
  {
   "cell_type": "code",
   "execution_count": 13,
   "metadata": {},
   "outputs": [
    {
     "data": {
      "text/plain": [
       "21"
      ]
     },
     "execution_count": 13,
     "metadata": {},
     "output_type": "execute_result"
    }
   ],
   "source": [
    "len(results.left_hand_landmarks.landmark)"
   ]
  },
  {
   "cell_type": "code",
   "execution_count": 14,
   "metadata": {},
   "outputs": [],
   "source": [
    "pose = []\n",
    "for res in results.pose_landmarks.landmark:\n",
    "    test = np.array([res.x, res.y, res.z, res.visibility])\n",
    "    pose.append(test)"
   ]
  },
  {
   "cell_type": "code",
   "execution_count": 15,
   "metadata": {},
   "outputs": [],
   "source": [
    "pose = np.array([[res.x, res.y, res.z, res.visibility] for res in results.pose_landmarks.landmark]).flatten() if results.pose_landmarks else np.zeros(132)\n",
    "face = np.array([[res.x, res.y, res.z] for res in results.face_landmarks.landmark]).flatten() if results.face_landmarks else np.zeros(1404)\n",
    "lh = np.array([[res.x, res.y, res.z] for res in results.left_hand_landmarks.landmark]).flatten() if results.left_hand_landmarks else np.zeros(21*3)\n",
    "rh = np.array([[res.x, res.y, res.z] for res in results.right_hand_landmarks.landmark]).flatten() if results.right_hand_landmarks else np.zeros(21*3)"
   ]
  },
  {
   "cell_type": "code",
   "execution_count": 16,
   "metadata": {},
   "outputs": [],
   "source": [
    "face = np.array([[res.x, res.y, res.z] for res in results.face_landmarks.landmark]).flatten() \\\n",
    "    if results.face_landmarks else np.zeros(1404)\n"
   ]
  },
  {
   "cell_type": "code",
   "execution_count": 7,
   "metadata": {},
   "outputs": [],
   "source": [
    "def extract_keypoints(results):\n",
    "    pose = np.array([[res.x, res.y, res.z, res.visibility] for res in results.pose_landmarks.landmark]).flatten() if results.pose_landmarks else np.zeros(33*4)\n",
    "    face = np.array([[res.x, res.y, res.z] for res in results.face_landmarks.landmark]).flatten() if results.face_landmarks else np.zeros(468*3)\n",
    "    lh = np.array([[res.x, res.y, res.z] for res in results.left_hand_landmarks.landmark]).flatten() if results.left_hand_landmarks else np.zeros(21*3)\n",
    "    rh = np.array([[res.x, res.y, res.z] for res in results.right_hand_landmarks.landmark]).flatten() if results.right_hand_landmarks else np.zeros(21*3)\n",
    "    return np.concatenate([pose, face, lh, rh])"
   ]
  },
  {
   "cell_type": "code",
   "execution_count": 18,
   "metadata": {},
   "outputs": [],
   "source": [
    "result_test = extract_keypoints(results)"
   ]
  },
  {
   "cell_type": "code",
   "execution_count": 19,
   "metadata": {},
   "outputs": [
    {
     "data": {
      "text/plain": [
       "array([ 0.50336856,  0.54611391, -1.12395561, ...,  0.        ,\n",
       "        0.        ,  0.        ])"
      ]
     },
     "execution_count": 19,
     "metadata": {},
     "output_type": "execute_result"
    }
   ],
   "source": [
    "result_test"
   ]
  },
  {
   "cell_type": "code",
   "execution_count": 20,
   "metadata": {},
   "outputs": [],
   "source": [
    "# np.save('0', result_test)"
   ]
  },
  {
   "cell_type": "code",
   "execution_count": 21,
   "metadata": {},
   "outputs": [],
   "source": [
    "# np.load('0.npy')"
   ]
  },
  {
   "cell_type": "markdown",
   "metadata": {},
   "source": [
    "# 4. Setup Folders for Collection"
   ]
  },
  {
   "cell_type": "code",
   "execution_count": 104,
   "metadata": {},
   "outputs": [],
   "source": [
    "# Path for exported data, numpy arrays\n",
    "DATA_PATH = os.path.join('MP_Data')\n",
    "\n",
    "# Actions that we try to detect\n",
    "actions = np.array(['hello', 'i_love_you', 'thanks', 'sorry', 'my_name_is_', \n",
    "                    '(fingerspelling)', 'bravo', 'you_are_amazing', 'nice_to_meet_you', 'how_are_you', \n",
    "                    'im_fine', 'see_you_again', '_'])\n",
    "\n",
    "# Thirty videos worth of data\n",
    "no_sequences = 30\n",
    "\n",
    "# Videos are going to be 30 frames in length\n",
    "sequence_length = 30\n",
    "\n",
    "# Folder start\n",
    "start_folder = 30"
   ]
  },
  {
   "cell_type": "code",
   "execution_count": 99,
   "metadata": {},
   "outputs": [],
   "source": [
    "for action in actions: \n",
    "    # dirmax = np.max(np.array(os.listdir(os.path.join(DATA_PATH, action))).astype(int))\n",
    "    for sequence in range(no_sequences):\n",
    "        try:\n",
    "            os.makedirs(os.path.join(DATA_PATH, action, str(sequence)))\n",
    "        except:\n",
    "            pass"
   ]
  },
  {
   "cell_type": "markdown",
   "metadata": {},
   "source": [
    "# 5. Collect Keypoint Values for Training and Testing"
   ]
  },
  {
   "cell_type": "code",
   "execution_count": 100,
   "metadata": {},
   "outputs": [],
   "source": [
    "# Actions that we try to detect\n",
    "actions = np.array(['_'])"
   ]
  },
  {
   "cell_type": "code",
   "execution_count": 101,
   "metadata": {},
   "outputs": [],
   "source": [
    "cap = cv2.VideoCapture(0)\n",
    "isOut = False\n",
    "# Set mediapipe model\n",
    "with mp_holistic.Holistic(min_detection_confidence=0.5, min_tracking_confidence=0.5) as holistic:\n",
    "    # NEW LOOP\n",
    "    # Loop through actions\n",
    "    for action in actions:\n",
    "        # Loop through sequences aka videos\n",
    "        for sequence in range(no_sequences):\n",
    "            # Loop through video length aka sequence length\n",
    "            for frame_num in range(sequence_length):\n",
    "\n",
    "                # Read feed\n",
    "                ret, frame = cap.read()\n",
    "\n",
    "                # Make detections\n",
    "                image, results = mediapipe_detection(frame, holistic)\n",
    "\n",
    "                # Draw landmarks\n",
    "                draw_styled_landmarks(image, results)\n",
    "                \n",
    "                # NEW Apply wait logic\n",
    "                if frame_num == 0:\n",
    "                    cv2.putText(image, 'STARTING COLLECTION', (120,200), \n",
    "                            cv2.FONT_HERSHEY_SIMPLEX, 1, (0,255, 0), 4, cv2.LINE_AA)\n",
    "                    cv2.putText(image, 'Collecting frames for {} Video Number {}'.format(action, sequence), (15,12), \n",
    "                            cv2.FONT_HERSHEY_SIMPLEX, 0.5, (0, 0, 255), 1, cv2.LINE_AA)\n",
    "                    # Show to screen\n",
    "                    cv2.imshow('OpenCV Feed', image)\n",
    "                    cv2.waitKey(2000)\n",
    "                else: \n",
    "                    cv2.putText(image, 'Collecting frames for {} Video Number {}'.format(action, sequence), (15,12), \n",
    "                            cv2.FONT_HERSHEY_SIMPLEX, 0.5, (0, 0, 255), 1, cv2.LINE_AA)\n",
    "                    # Show to screen\n",
    "                    cv2.imshow('OpenCV Feed', image)\n",
    "                \n",
    "                # NEW Export keypoints\n",
    "                keypoints = extract_keypoints(results)\n",
    "                npy_path = os.path.join(DATA_PATH, action, str(sequence), str(frame_num))\n",
    "                np.save(npy_path, keypoints)\n",
    "\n",
    "                # Break gracefully\n",
    "                if cv2.waitKey(10) & 0xFF == ord('q'):\n",
    "                    isOut = True\n",
    "                    break\n",
    "\n",
    "            if isOut == True:\n",
    "                break\n",
    "\n",
    "        if isOut == True:\n",
    "            break\n",
    "                \n",
    "    cap.release()\n",
    "    cv2.destroyAllWindows()"
   ]
  },
  {
   "cell_type": "code",
   "execution_count": 102,
   "metadata": {},
   "outputs": [],
   "source": [
    "cap.release()\n",
    "cv2.destroyAllWindows()"
   ]
  },
  {
   "cell_type": "markdown",
   "metadata": {},
   "source": [
    "# 6. Preprocess Data and Create Labels and Features"
   ]
  },
  {
   "cell_type": "code",
   "execution_count": 12,
   "metadata": {},
   "outputs": [],
   "source": [
    "from sklearn.model_selection import train_test_split\n",
    "from keras.utils import to_categorical"
   ]
  },
  {
   "cell_type": "code",
   "execution_count": 105,
   "metadata": {},
   "outputs": [],
   "source": [
    "label_map = {label:num for num, label in enumerate(actions)}"
   ]
  },
  {
   "cell_type": "code",
   "execution_count": 106,
   "metadata": {},
   "outputs": [
    {
     "data": {
      "text/plain": [
       "{'hello': 0,\n",
       " 'i_love_you': 1,\n",
       " 'thanks': 2,\n",
       " 'sorry': 3,\n",
       " 'my_name_is_': 4,\n",
       " '(fingerspelling)': 5,\n",
       " 'bravo': 6,\n",
       " 'you_are_amazing': 7,\n",
       " 'nice_to_meet_you': 8,\n",
       " 'how_are_you': 9,\n",
       " 'im_fine': 10,\n",
       " 'see_you_again': 11,\n",
       " '_': 12}"
      ]
     },
     "execution_count": 106,
     "metadata": {},
     "output_type": "execute_result"
    }
   ],
   "source": [
    "label_map"
   ]
  },
  {
   "cell_type": "code",
   "execution_count": 107,
   "metadata": {},
   "outputs": [],
   "source": [
    "sequences, labels = [], []\n",
    "for action in actions:\n",
    "    for sequence in np.array(os.listdir(os.path.join(DATA_PATH, action))).astype(int):\n",
    "        window = []\n",
    "        for frame_num in range(sequence_length):\n",
    "            res = np.load(os.path.join(DATA_PATH, action, str(sequence), \"{}.npy\".format(frame_num)))\n",
    "            window.append(res)\n",
    "        sequences.append(window)\n",
    "        labels.append(label_map[action])"
   ]
  },
  {
   "cell_type": "code",
   "execution_count": 108,
   "metadata": {},
   "outputs": [
    {
     "data": {
      "text/plain": [
       "(390, 30, 1662)"
      ]
     },
     "execution_count": 108,
     "metadata": {},
     "output_type": "execute_result"
    }
   ],
   "source": [
    "np.array(sequences).shape"
   ]
  },
  {
   "cell_type": "code",
   "execution_count": 109,
   "metadata": {},
   "outputs": [
    {
     "data": {
      "text/plain": [
       "(390,)"
      ]
     },
     "execution_count": 109,
     "metadata": {},
     "output_type": "execute_result"
    }
   ],
   "source": [
    "np.array(labels).shape"
   ]
  },
  {
   "cell_type": "code",
   "execution_count": 110,
   "metadata": {},
   "outputs": [],
   "source": [
    "X = np.array(sequences)"
   ]
  },
  {
   "cell_type": "code",
   "execution_count": 111,
   "metadata": {},
   "outputs": [
    {
     "data": {
      "text/plain": [
       "(390, 30, 1662)"
      ]
     },
     "execution_count": 111,
     "metadata": {},
     "output_type": "execute_result"
    }
   ],
   "source": [
    "X.shape"
   ]
  },
  {
   "cell_type": "code",
   "execution_count": 112,
   "metadata": {},
   "outputs": [],
   "source": [
    "y = to_categorical(labels).astype(int)"
   ]
  },
  {
   "cell_type": "code",
   "execution_count": 115,
   "metadata": {},
   "outputs": [],
   "source": [
    "X_train, X_test, y_train, y_test = train_test_split(X, y, test_size=0.2)"
   ]
  },
  {
   "cell_type": "code",
   "execution_count": 116,
   "metadata": {},
   "outputs": [
    {
     "data": {
      "text/plain": [
       "(78, 13)"
      ]
     },
     "execution_count": 116,
     "metadata": {},
     "output_type": "execute_result"
    }
   ],
   "source": [
    "y_test.shape"
   ]
  },
  {
   "cell_type": "markdown",
   "metadata": {},
   "source": [
    "# 7. Build and Train LSTM Neural Network"
   ]
  },
  {
   "cell_type": "code",
   "execution_count": 40,
   "metadata": {},
   "outputs": [],
   "source": [
    "from keras.models import Sequential\n",
    "from keras.layers import LSTM, Dense\n",
    "from keras.callbacks import TensorBoard"
   ]
  },
  {
   "cell_type": "code",
   "execution_count": 117,
   "metadata": {},
   "outputs": [],
   "source": [
    "log_dir = os.path.join('Logs')\n",
    "tb_callback = TensorBoard(log_dir=log_dir)"
   ]
  },
  {
   "cell_type": "code",
   "execution_count": 118,
   "metadata": {},
   "outputs": [],
   "source": [
    "model = Sequential()\n",
    "model.add(LSTM(64, return_sequences=True, activation='relu', input_shape=(30,1662)))\n",
    "model.add(LSTM(128, return_sequences=True, activation='relu'))\n",
    "model.add(LSTM(64, return_sequences=False, activation='relu'))\n",
    "model.add(Dense(64, activation='relu'))\n",
    "model.add(Dense(32, activation='relu'))\n",
    "model.add(Dense(actions.shape[0], activation='softmax'))"
   ]
  },
  {
   "cell_type": "code",
   "execution_count": 119,
   "metadata": {},
   "outputs": [],
   "source": [
    "model.compile(optimizer='Adam', loss='categorical_crossentropy', metrics=['categorical_accuracy'])"
   ]
  },
  {
   "cell_type": "code",
   "execution_count": 120,
   "metadata": {
    "scrolled": true
   },
   "outputs": [
    {
     "name": "stdout",
     "output_type": "stream",
     "text": [
      "Epoch 1/500\n",
      "10/10 [==============================] - 5s 126ms/step - loss: 2.9968 - categorical_accuracy: 0.0641\n",
      "Epoch 2/500\n",
      "10/10 [==============================] - 1s 125ms/step - loss: 2.5440 - categorical_accuracy: 0.0769\n",
      "Epoch 3/500\n",
      "10/10 [==============================] - 1s 125ms/step - loss: 2.4690 - categorical_accuracy: 0.1603\n",
      "Epoch 4/500\n",
      "10/10 [==============================] - 1s 124ms/step - loss: 2.6048 - categorical_accuracy: 0.1571\n",
      "Epoch 5/500\n",
      "10/10 [==============================] - 1s 133ms/step - loss: 2.4816 - categorical_accuracy: 0.1603\n",
      "Epoch 6/500\n",
      "10/10 [==============================] - 1s 127ms/step - loss: 2.2226 - categorical_accuracy: 0.1891\n",
      "Epoch 7/500\n",
      "10/10 [==============================] - 1s 128ms/step - loss: 2.2344 - categorical_accuracy: 0.1763\n",
      "Epoch 8/500\n",
      "10/10 [==============================] - 1s 128ms/step - loss: 2.4154 - categorical_accuracy: 0.1603\n",
      "Epoch 9/500\n",
      "10/10 [==============================] - 1s 124ms/step - loss: 2.5326 - categorical_accuracy: 0.1314\n",
      "Epoch 10/500\n",
      "10/10 [==============================] - 1s 128ms/step - loss: 2.7432 - categorical_accuracy: 0.1603\n",
      "Epoch 11/500\n",
      "10/10 [==============================] - 1s 128ms/step - loss: 2.4840 - categorical_accuracy: 0.1218\n",
      "Epoch 12/500\n",
      "10/10 [==============================] - 1s 126ms/step - loss: 2.4013 - categorical_accuracy: 0.1410\n",
      "Epoch 13/500\n",
      "10/10 [==============================] - 1s 129ms/step - loss: 2.2855 - categorical_accuracy: 0.2532\n",
      "Epoch 14/500\n",
      "10/10 [==============================] - 1s 130ms/step - loss: 2.1310 - categorical_accuracy: 0.1955\n",
      "Epoch 15/500\n",
      "10/10 [==============================] - 2s 157ms/step - loss: 1.8093 - categorical_accuracy: 0.3045\n",
      "Epoch 16/500\n",
      "10/10 [==============================] - 1s 149ms/step - loss: 1.8333 - categorical_accuracy: 0.2821\n",
      "Epoch 17/500\n",
      "10/10 [==============================] - 2s 152ms/step - loss: 2.1787 - categorical_accuracy: 0.1923\n",
      "Epoch 18/500\n",
      "10/10 [==============================] - 1s 150ms/step - loss: 1.7666 - categorical_accuracy: 0.2628\n",
      "Epoch 19/500\n",
      "10/10 [==============================] - 1s 145ms/step - loss: 1.6974 - categorical_accuracy: 0.3462\n",
      "Epoch 20/500\n",
      "10/10 [==============================] - 2s 153ms/step - loss: 1.5029 - categorical_accuracy: 0.3942\n",
      "Epoch 21/500\n",
      "10/10 [==============================] - 1s 142ms/step - loss: 1.6033 - categorical_accuracy: 0.3686\n",
      "Epoch 22/500\n",
      "10/10 [==============================] - 1s 145ms/step - loss: 1.5735 - categorical_accuracy: 0.4006\n",
      "Epoch 23/500\n",
      "10/10 [==============================] - 1s 144ms/step - loss: 1.4172 - categorical_accuracy: 0.4455\n",
      "Epoch 24/500\n",
      "10/10 [==============================] - 1s 142ms/step - loss: 1.1343 - categorical_accuracy: 0.5609\n",
      "Epoch 25/500\n",
      "10/10 [==============================] - 2s 149ms/step - loss: 1.0499 - categorical_accuracy: 0.6026\n",
      "Epoch 26/500\n",
      "10/10 [==============================] - 1s 145ms/step - loss: 1.1121 - categorical_accuracy: 0.5577\n",
      "Epoch 27/500\n",
      "10/10 [==============================] - 1s 146ms/step - loss: 0.9188 - categorical_accuracy: 0.7051\n",
      "Epoch 28/500\n",
      "10/10 [==============================] - 1s 142ms/step - loss: 0.7996 - categorical_accuracy: 0.6891\n",
      "Epoch 29/500\n",
      "10/10 [==============================] - 1s 142ms/step - loss: 2.0919 - categorical_accuracy: 0.2853\n",
      "Epoch 30/500\n",
      "10/10 [==============================] - 1s 149ms/step - loss: 1.9208 - categorical_accuracy: 0.2917\n",
      "Epoch 31/500\n",
      "10/10 [==============================] - 1s 143ms/step - loss: 1.7439 - categorical_accuracy: 0.3782\n",
      "Epoch 32/500\n",
      "10/10 [==============================] - 1s 147ms/step - loss: 1.4719 - categorical_accuracy: 0.4199\n",
      "Epoch 33/500\n",
      "10/10 [==============================] - 1s 141ms/step - loss: 1.2104 - categorical_accuracy: 0.5897\n",
      "Epoch 34/500\n",
      "10/10 [==============================] - 1s 146ms/step - loss: 1.0105 - categorical_accuracy: 0.6442\n",
      "Epoch 35/500\n",
      "10/10 [==============================] - 1s 143ms/step - loss: 1.0260 - categorical_accuracy: 0.5833\n",
      "Epoch 36/500\n",
      "10/10 [==============================] - 1s 143ms/step - loss: 1.1712 - categorical_accuracy: 0.5449\n",
      "Epoch 37/500\n",
      "10/10 [==============================] - 1s 149ms/step - loss: 1.1048 - categorical_accuracy: 0.5673\n",
      "Epoch 38/500\n",
      "10/10 [==============================] - 1s 139ms/step - loss: 0.8619 - categorical_accuracy: 0.7372\n",
      "Epoch 39/500\n",
      "10/10 [==============================] - 2s 149ms/step - loss: 0.7410 - categorical_accuracy: 0.7660\n",
      "Epoch 40/500\n",
      "10/10 [==============================] - 1s 146ms/step - loss: 0.6514 - categorical_accuracy: 0.7500\n",
      "Epoch 41/500\n",
      "10/10 [==============================] - 1s 144ms/step - loss: 0.5888 - categorical_accuracy: 0.7596\n",
      "Epoch 42/500\n",
      "10/10 [==============================] - 1s 143ms/step - loss: 0.7128 - categorical_accuracy: 0.7372\n",
      "Epoch 43/500\n",
      "10/10 [==============================] - 1s 143ms/step - loss: 0.6063 - categorical_accuracy: 0.7885\n",
      "Epoch 44/500\n",
      "10/10 [==============================] - 2s 152ms/step - loss: 0.5244 - categorical_accuracy: 0.8365\n",
      "Epoch 45/500\n",
      "10/10 [==============================] - 1s 141ms/step - loss: 0.4769 - categorical_accuracy: 0.8173\n",
      "Epoch 46/500\n",
      "10/10 [==============================] - 1s 145ms/step - loss: 2.1173 - categorical_accuracy: 0.4295\n",
      "Epoch 47/500\n",
      "10/10 [==============================] - 1s 144ms/step - loss: 2.0372 - categorical_accuracy: 0.2468\n",
      "Epoch 48/500\n",
      "10/10 [==============================] - 1s 143ms/step - loss: 1.7694 - categorical_accuracy: 0.3526\n",
      "Epoch 49/500\n",
      "10/10 [==============================] - 2s 153ms/step - loss: 1.5548 - categorical_accuracy: 0.3718\n",
      "Epoch 50/500\n",
      "10/10 [==============================] - 1s 141ms/step - loss: 1.3922 - categorical_accuracy: 0.4904\n",
      "Epoch 51/500\n",
      "10/10 [==============================] - 1s 145ms/step - loss: 1.2570 - categorical_accuracy: 0.5256\n",
      "Epoch 52/500\n",
      "10/10 [==============================] - 1s 142ms/step - loss: 1.3317 - categorical_accuracy: 0.5833\n",
      "Epoch 53/500\n",
      "10/10 [==============================] - 1s 147ms/step - loss: 1.1839 - categorical_accuracy: 0.5994\n",
      "Epoch 54/500\n",
      "10/10 [==============================] - 1s 144ms/step - loss: 0.9859 - categorical_accuracy: 0.6506\n",
      "Epoch 55/500\n",
      "10/10 [==============================] - 1s 142ms/step - loss: 0.8661 - categorical_accuracy: 0.6763\n",
      "Epoch 56/500\n",
      "10/10 [==============================] - 1s 146ms/step - loss: 0.7974 - categorical_accuracy: 0.6987\n",
      "Epoch 57/500\n",
      "10/10 [==============================] - 1s 140ms/step - loss: 0.8320 - categorical_accuracy: 0.7244\n",
      "Epoch 58/500\n",
      "10/10 [==============================] - 2s 154ms/step - loss: 0.6279 - categorical_accuracy: 0.7821\n",
      "Epoch 59/500\n",
      "10/10 [==============================] - 1s 147ms/step - loss: 0.4343 - categorical_accuracy: 0.8782\n",
      "Epoch 60/500\n",
      "10/10 [==============================] - 1s 141ms/step - loss: 0.3884 - categorical_accuracy: 0.8494\n",
      "Epoch 61/500\n",
      "10/10 [==============================] - 1s 143ms/step - loss: 0.3791 - categorical_accuracy: 0.8782\n",
      "Epoch 62/500\n",
      "10/10 [==============================] - 1s 149ms/step - loss: 0.3706 - categorical_accuracy: 0.8622\n",
      "Epoch 63/500\n",
      "10/10 [==============================] - 1s 146ms/step - loss: 0.3623 - categorical_accuracy: 0.8686\n",
      "Epoch 64/500\n",
      "10/10 [==============================] - 1s 142ms/step - loss: 0.4525 - categorical_accuracy: 0.8397\n",
      "Epoch 65/500\n",
      "10/10 [==============================] - 1s 141ms/step - loss: 0.5466 - categorical_accuracy: 0.8109\n",
      "Epoch 66/500\n",
      "10/10 [==============================] - 1s 140ms/step - loss: 0.3600 - categorical_accuracy: 0.8942\n",
      "Epoch 67/500\n",
      "10/10 [==============================] - 1s 149ms/step - loss: 0.3013 - categorical_accuracy: 0.8846\n",
      "Epoch 68/500\n",
      "10/10 [==============================] - 1s 146ms/step - loss: 0.3613 - categorical_accuracy: 0.8846\n",
      "Epoch 69/500\n",
      "10/10 [==============================] - 1s 142ms/step - loss: 0.2138 - categorical_accuracy: 0.9231\n",
      "Epoch 70/500\n",
      "10/10 [==============================] - 1s 147ms/step - loss: 0.7237 - categorical_accuracy: 0.7821\n",
      "Epoch 71/500\n",
      "10/10 [==============================] - 1s 142ms/step - loss: 0.9138 - categorical_accuracy: 0.6827\n",
      "Epoch 72/500\n",
      "10/10 [==============================] - 1s 141ms/step - loss: 0.5648 - categorical_accuracy: 0.8397\n",
      "Epoch 73/500\n",
      "10/10 [==============================] - 1s 148ms/step - loss: 0.4530 - categorical_accuracy: 0.8590\n",
      "Epoch 74/500\n",
      "10/10 [==============================] - 1s 143ms/step - loss: 0.3312 - categorical_accuracy: 0.9038\n",
      "Epoch 75/500\n",
      "10/10 [==============================] - 1s 145ms/step - loss: 0.2519 - categorical_accuracy: 0.9295\n",
      "Epoch 76/500\n",
      "10/10 [==============================] - 1s 148ms/step - loss: 0.2912 - categorical_accuracy: 0.9103\n",
      "Epoch 77/500\n",
      "10/10 [==============================] - 1s 143ms/step - loss: 0.2147 - categorical_accuracy: 0.9263\n",
      "Epoch 78/500\n",
      "10/10 [==============================] - 1s 142ms/step - loss: 0.2251 - categorical_accuracy: 0.9199\n",
      "Epoch 79/500\n",
      "10/10 [==============================] - 1s 141ms/step - loss: 0.3139 - categorical_accuracy: 0.8910\n",
      "Epoch 80/500\n",
      "10/10 [==============================] - 1s 150ms/step - loss: 0.1940 - categorical_accuracy: 0.9359\n",
      "Epoch 81/500\n",
      "10/10 [==============================] - 1s 141ms/step - loss: 0.2490 - categorical_accuracy: 0.9103\n",
      "Epoch 82/500\n",
      "10/10 [==============================] - 1s 141ms/step - loss: 0.1683 - categorical_accuracy: 0.9519\n",
      "Epoch 83/500\n",
      "10/10 [==============================] - 1s 140ms/step - loss: 0.1428 - categorical_accuracy: 0.9583\n",
      "Epoch 84/500\n",
      "10/10 [==============================] - 1s 146ms/step - loss: 0.1051 - categorical_accuracy: 0.9583\n",
      "Epoch 85/500\n",
      "10/10 [==============================] - 1s 147ms/step - loss: 0.0664 - categorical_accuracy: 0.9840\n",
      "Epoch 86/500\n",
      "10/10 [==============================] - 1s 140ms/step - loss: 0.0885 - categorical_accuracy: 0.9712\n",
      "Epoch 87/500\n",
      "10/10 [==============================] - 1s 144ms/step - loss: 0.1542 - categorical_accuracy: 0.9551\n",
      "Epoch 88/500\n",
      "10/10 [==============================] - 1s 142ms/step - loss: 0.6546 - categorical_accuracy: 0.7788\n",
      "Epoch 89/500\n",
      "10/10 [==============================] - 1s 144ms/step - loss: 0.3491 - categorical_accuracy: 0.8750\n",
      "Epoch 90/500\n",
      "10/10 [==============================] - 1s 143ms/step - loss: 0.2584 - categorical_accuracy: 0.9199\n",
      "Epoch 91/500\n",
      "10/10 [==============================] - 1s 141ms/step - loss: 0.1937 - categorical_accuracy: 0.9519\n",
      "Epoch 92/500\n",
      "10/10 [==============================] - 1s 142ms/step - loss: 0.1526 - categorical_accuracy: 0.9391\n",
      "Epoch 93/500\n",
      "10/10 [==============================] - 1s 146ms/step - loss: 0.0966 - categorical_accuracy: 0.9679\n",
      "Epoch 94/500\n",
      "10/10 [==============================] - 1s 145ms/step - loss: 0.1074 - categorical_accuracy: 0.9647\n",
      "Epoch 95/500\n",
      "10/10 [==============================] - 1s 143ms/step - loss: 0.2064 - categorical_accuracy: 0.9487\n",
      "Epoch 96/500\n",
      "10/10 [==============================] - 1s 140ms/step - loss: 0.1093 - categorical_accuracy: 0.9679\n",
      "Epoch 97/500\n",
      "10/10 [==============================] - 2s 154ms/step - loss: 0.0738 - categorical_accuracy: 0.9840\n",
      "Epoch 98/500\n",
      "10/10 [==============================] - 2s 152ms/step - loss: 0.0532 - categorical_accuracy: 0.9840\n",
      "Epoch 99/500\n",
      "10/10 [==============================] - 1s 149ms/step - loss: 0.0295 - categorical_accuracy: 0.9936\n",
      "Epoch 100/500\n",
      "10/10 [==============================] - 1s 145ms/step - loss: 0.0585 - categorical_accuracy: 0.9808\n",
      "Epoch 101/500\n",
      "10/10 [==============================] - 2s 153ms/step - loss: 0.0639 - categorical_accuracy: 0.9744\n",
      "Epoch 102/500\n",
      "10/10 [==============================] - 2s 152ms/step - loss: 0.0697 - categorical_accuracy: 0.9712\n",
      "Epoch 103/500\n",
      "10/10 [==============================] - 1s 142ms/step - loss: 0.0618 - categorical_accuracy: 0.9679\n",
      "Epoch 104/500\n",
      "10/10 [==============================] - 1s 141ms/step - loss: 0.0485 - categorical_accuracy: 0.9840\n",
      "Epoch 105/500\n",
      "10/10 [==============================] - 1s 138ms/step - loss: 0.0381 - categorical_accuracy: 0.9904\n",
      "Epoch 106/500\n",
      "10/10 [==============================] - 1s 144ms/step - loss: 0.0271 - categorical_accuracy: 0.9904\n",
      "Epoch 107/500\n",
      "10/10 [==============================] - 1s 141ms/step - loss: 0.0441 - categorical_accuracy: 0.9840\n",
      "Epoch 108/500\n",
      "10/10 [==============================] - 1s 141ms/step - loss: 0.0234 - categorical_accuracy: 0.9936\n",
      "Epoch 109/500\n",
      "10/10 [==============================] - 1s 145ms/step - loss: 0.0085 - categorical_accuracy: 1.0000\n",
      "Epoch 110/500\n",
      "10/10 [==============================] - 1s 139ms/step - loss: 0.0078 - categorical_accuracy: 0.9968\n",
      "Epoch 111/500\n",
      "10/10 [==============================] - 1s 147ms/step - loss: 0.0065 - categorical_accuracy: 1.0000\n",
      "Epoch 112/500\n",
      "10/10 [==============================] - 1s 141ms/step - loss: 0.0072 - categorical_accuracy: 1.0000\n",
      "Epoch 113/500\n",
      "10/10 [==============================] - 1s 142ms/step - loss: 0.0048 - categorical_accuracy: 1.0000\n",
      "Epoch 114/500\n",
      "10/10 [==============================] - 1s 141ms/step - loss: 0.0028 - categorical_accuracy: 1.0000\n",
      "Epoch 115/500\n",
      "10/10 [==============================] - 1s 148ms/step - loss: 0.0016 - categorical_accuracy: 1.0000\n",
      "Epoch 116/500\n",
      "10/10 [==============================] - 1s 145ms/step - loss: 0.0015 - categorical_accuracy: 1.0000\n",
      "Epoch 117/500\n",
      "10/10 [==============================] - 1s 141ms/step - loss: 0.0012 - categorical_accuracy: 1.0000\n",
      "Epoch 118/500\n",
      "10/10 [==============================] - 1s 142ms/step - loss: 9.7896e-04 - categorical_accuracy: 1.0000\n",
      "Epoch 119/500\n",
      "10/10 [==============================] - 1s 145ms/step - loss: 8.6010e-04 - categorical_accuracy: 1.0000\n",
      "Epoch 120/500\n",
      "10/10 [==============================] - 1s 143ms/step - loss: 7.6563e-04 - categorical_accuracy: 1.0000\n",
      "Epoch 121/500\n",
      "10/10 [==============================] - 1s 143ms/step - loss: 7.1676e-04 - categorical_accuracy: 1.0000\n",
      "Epoch 122/500\n",
      "10/10 [==============================] - 1s 140ms/step - loss: 6.6587e-04 - categorical_accuracy: 1.0000\n",
      "Epoch 123/500\n",
      "10/10 [==============================] - 1s 149ms/step - loss: 6.2125e-04 - categorical_accuracy: 1.0000\n",
      "Epoch 124/500\n",
      "10/10 [==============================] - 1s 141ms/step - loss: 5.8745e-04 - categorical_accuracy: 1.0000\n",
      "Epoch 125/500\n",
      "10/10 [==============================] - 1s 139ms/step - loss: 5.4330e-04 - categorical_accuracy: 1.0000\n",
      "Epoch 126/500\n",
      "10/10 [==============================] - 1s 141ms/step - loss: 5.1178e-04 - categorical_accuracy: 1.0000\n",
      "Epoch 127/500\n",
      "10/10 [==============================] - 1s 143ms/step - loss: 4.8432e-04 - categorical_accuracy: 1.0000\n",
      "Epoch 128/500\n",
      "10/10 [==============================] - 1s 143ms/step - loss: 4.5747e-04 - categorical_accuracy: 1.0000\n",
      "Epoch 129/500\n",
      "10/10 [==============================] - 1s 141ms/step - loss: 4.3566e-04 - categorical_accuracy: 1.0000\n",
      "Epoch 130/500\n",
      "10/10 [==============================] - 1s 145ms/step - loss: 4.1653e-04 - categorical_accuracy: 1.0000\n",
      "Epoch 131/500\n",
      "10/10 [==============================] - 1s 140ms/step - loss: 3.9369e-04 - categorical_accuracy: 1.0000\n",
      "Epoch 132/500\n",
      "10/10 [==============================] - 2s 184ms/step - loss: 3.8134e-04 - categorical_accuracy: 1.0000\n",
      "Epoch 133/500\n",
      "10/10 [==============================] - 2s 167ms/step - loss: 3.5879e-04 - categorical_accuracy: 1.0000\n",
      "Epoch 134/500\n",
      "10/10 [==============================] - 1s 149ms/step - loss: 3.4652e-04 - categorical_accuracy: 1.0000\n",
      "Epoch 135/500\n",
      "10/10 [==============================] - 1s 146ms/step - loss: 3.2909e-04 - categorical_accuracy: 1.0000\n",
      "Epoch 136/500\n",
      "10/10 [==============================] - 2s 147ms/step - loss: 3.1708e-04 - categorical_accuracy: 1.0000\n",
      "Epoch 137/500\n",
      "10/10 [==============================] - 1s 145ms/step - loss: 3.0398e-04 - categorical_accuracy: 1.0000\n",
      "Epoch 138/500\n",
      "10/10 [==============================] - 1s 144ms/step - loss: 2.9409e-04 - categorical_accuracy: 1.0000\n",
      "Epoch 139/500\n",
      "10/10 [==============================] - 1s 143ms/step - loss: 2.8060e-04 - categorical_accuracy: 1.0000\n",
      "Epoch 140/500\n",
      "10/10 [==============================] - 1s 150ms/step - loss: 2.6992e-04 - categorical_accuracy: 1.0000\n",
      "Epoch 141/500\n",
      "10/10 [==============================] - 1s 143ms/step - loss: 2.6118e-04 - categorical_accuracy: 1.0000\n",
      "Epoch 142/500\n",
      "10/10 [==============================] - 2s 154ms/step - loss: 2.5275e-04 - categorical_accuracy: 1.0000\n",
      "Epoch 143/500\n",
      "10/10 [==============================] - 1s 141ms/step - loss: 2.4280e-04 - categorical_accuracy: 1.0000\n",
      "Epoch 144/500\n",
      "10/10 [==============================] - 1s 146ms/step - loss: 2.3369e-04 - categorical_accuracy: 1.0000\n",
      "Epoch 145/500\n",
      "10/10 [==============================] - 1s 144ms/step - loss: 2.2614e-04 - categorical_accuracy: 1.0000\n",
      "Epoch 146/500\n",
      "10/10 [==============================] - 1s 140ms/step - loss: 2.1861e-04 - categorical_accuracy: 1.0000\n",
      "Epoch 147/500\n",
      "10/10 [==============================] - 1s 145ms/step - loss: 2.1278e-04 - categorical_accuracy: 1.0000\n",
      "Epoch 148/500\n",
      "10/10 [==============================] - 1s 147ms/step - loss: 2.0480e-04 - categorical_accuracy: 1.0000\n",
      "Epoch 149/500\n",
      "10/10 [==============================] - 1s 144ms/step - loss: 1.9926e-04 - categorical_accuracy: 1.0000\n",
      "Epoch 150/500\n",
      "10/10 [==============================] - 1s 142ms/step - loss: 1.9337e-04 - categorical_accuracy: 1.0000\n",
      "Epoch 151/500\n",
      "10/10 [==============================] - 1s 140ms/step - loss: 1.8605e-04 - categorical_accuracy: 1.0000\n",
      "Epoch 152/500\n",
      "10/10 [==============================] - 1s 149ms/step - loss: 1.8108e-04 - categorical_accuracy: 1.0000\n",
      "Epoch 153/500\n",
      "10/10 [==============================] - 1s 141ms/step - loss: 1.7488e-04 - categorical_accuracy: 1.0000\n",
      "Epoch 154/500\n",
      "10/10 [==============================] - 1s 145ms/step - loss: 1.7015e-04 - categorical_accuracy: 1.0000\n",
      "Epoch 155/500\n",
      "10/10 [==============================] - 1s 143ms/step - loss: 1.6510e-04 - categorical_accuracy: 1.0000\n",
      "Epoch 156/500\n",
      "10/10 [==============================] - 1s 147ms/step - loss: 1.6133e-04 - categorical_accuracy: 1.0000\n",
      "Epoch 157/500\n",
      "10/10 [==============================] - 1s 143ms/step - loss: 1.5694e-04 - categorical_accuracy: 1.0000\n",
      "Epoch 158/500\n",
      "10/10 [==============================] - 1s 140ms/step - loss: 1.5196e-04 - categorical_accuracy: 1.0000\n",
      "Epoch 159/500\n",
      "10/10 [==============================] - 1s 144ms/step - loss: 1.4859e-04 - categorical_accuracy: 1.0000\n",
      "Epoch 160/500\n",
      "10/10 [==============================] - 1s 147ms/step - loss: 1.4413e-04 - categorical_accuracy: 1.0000\n",
      "Epoch 161/500\n",
      "10/10 [==============================] - 1s 145ms/step - loss: 1.4045e-04 - categorical_accuracy: 1.0000\n",
      "Epoch 162/500\n",
      "10/10 [==============================] - 2s 150ms/step - loss: 1.3723e-04 - categorical_accuracy: 1.0000\n",
      "Epoch 163/500\n",
      "10/10 [==============================] - 1s 146ms/step - loss: 1.3374e-04 - categorical_accuracy: 1.0000\n",
      "Epoch 164/500\n",
      "10/10 [==============================] - 1s 147ms/step - loss: 1.3022e-04 - categorical_accuracy: 1.0000\n",
      "Epoch 165/500\n",
      "10/10 [==============================] - 1s 143ms/step - loss: 1.2782e-04 - categorical_accuracy: 1.0000\n",
      "Epoch 166/500\n",
      "10/10 [==============================] - 2s 149ms/step - loss: 1.2442e-04 - categorical_accuracy: 1.0000\n",
      "Epoch 167/500\n",
      "10/10 [==============================] - 1s 141ms/step - loss: 1.2156e-04 - categorical_accuracy: 1.0000\n",
      "Epoch 168/500\n",
      "10/10 [==============================] - 1s 146ms/step - loss: 1.1869e-04 - categorical_accuracy: 1.0000\n",
      "Epoch 169/500\n",
      "10/10 [==============================] - 1s 147ms/step - loss: 1.1596e-04 - categorical_accuracy: 1.0000\n",
      "Epoch 170/500\n",
      "10/10 [==============================] - 1s 141ms/step - loss: 1.1366e-04 - categorical_accuracy: 1.0000\n",
      "Epoch 171/500\n",
      "10/10 [==============================] - 1s 145ms/step - loss: 1.1102e-04 - categorical_accuracy: 1.0000\n",
      "Epoch 172/500\n",
      "10/10 [==============================] - 1s 145ms/step - loss: 1.0854e-04 - categorical_accuracy: 1.0000\n",
      "Epoch 173/500\n",
      "10/10 [==============================] - 2s 152ms/step - loss: 1.0636e-04 - categorical_accuracy: 1.0000\n",
      "Epoch 174/500\n",
      "10/10 [==============================] - 2s 154ms/step - loss: 1.0389e-04 - categorical_accuracy: 1.0000\n",
      "Epoch 175/500\n",
      "10/10 [==============================] - 2s 163ms/step - loss: 1.0162e-04 - categorical_accuracy: 1.0000\n",
      "Epoch 176/500\n",
      "10/10 [==============================] - 2s 163ms/step - loss: 1.0003e-04 - categorical_accuracy: 1.0000\n",
      "Epoch 177/500\n",
      "10/10 [==============================] - 1s 149ms/step - loss: 9.7439e-05 - categorical_accuracy: 1.0000\n",
      "Epoch 178/500\n",
      "10/10 [==============================] - 2s 156ms/step - loss: 9.5623e-05 - categorical_accuracy: 1.0000\n",
      "Epoch 179/500\n",
      "10/10 [==============================] - 1s 142ms/step - loss: 9.3798e-05 - categorical_accuracy: 1.0000\n",
      "Epoch 180/500\n",
      "10/10 [==============================] - 1s 149ms/step - loss: 9.2533e-05 - categorical_accuracy: 1.0000\n",
      "Epoch 181/500\n",
      "10/10 [==============================] - 2s 155ms/step - loss: 9.0452e-05 - categorical_accuracy: 1.0000\n",
      "Epoch 182/500\n",
      "10/10 [==============================] - 2s 152ms/step - loss: 8.8333e-05 - categorical_accuracy: 1.0000\n",
      "Epoch 183/500\n",
      "10/10 [==============================] - 2s 155ms/step - loss: 8.6775e-05 - categorical_accuracy: 1.0000\n",
      "Epoch 184/500\n",
      "10/10 [==============================] - 2s 163ms/step - loss: 8.5093e-05 - categorical_accuracy: 1.0000\n",
      "Epoch 185/500\n",
      "10/10 [==============================] - 2s 159ms/step - loss: 8.3379e-05 - categorical_accuracy: 1.0000\n",
      "Epoch 186/500\n",
      "10/10 [==============================] - 2s 151ms/step - loss: 8.1836e-05 - categorical_accuracy: 1.0000\n",
      "Epoch 187/500\n",
      "10/10 [==============================] - 2s 153ms/step - loss: 8.0545e-05 - categorical_accuracy: 1.0000\n",
      "Epoch 188/500\n",
      "10/10 [==============================] - 2s 160ms/step - loss: 7.9167e-05 - categorical_accuracy: 1.0000\n",
      "Epoch 189/500\n",
      "10/10 [==============================] - 2s 164ms/step - loss: 7.7708e-05 - categorical_accuracy: 1.0000\n",
      "Epoch 190/500\n",
      "10/10 [==============================] - 2s 157ms/step - loss: 7.6146e-05 - categorical_accuracy: 1.0000\n",
      "Epoch 191/500\n",
      "10/10 [==============================] - 2s 151ms/step - loss: 7.4699e-05 - categorical_accuracy: 1.0000\n",
      "Epoch 192/500\n",
      "10/10 [==============================] - 2s 165ms/step - loss: 7.3220e-05 - categorical_accuracy: 1.0000\n",
      "Epoch 193/500\n",
      "10/10 [==============================] - 2s 158ms/step - loss: 7.2164e-05 - categorical_accuracy: 1.0000\n",
      "Epoch 194/500\n",
      "10/10 [==============================] - 2s 162ms/step - loss: 7.0908e-05 - categorical_accuracy: 1.0000\n",
      "Epoch 195/500\n",
      "10/10 [==============================] - 2s 180ms/step - loss: 6.9604e-05 - categorical_accuracy: 1.0000\n",
      "Epoch 196/500\n",
      "10/10 [==============================] - 2s 176ms/step - loss: 6.8496e-05 - categorical_accuracy: 1.0000\n",
      "Epoch 197/500\n",
      "10/10 [==============================] - 2s 169ms/step - loss: 6.7165e-05 - categorical_accuracy: 1.0000\n",
      "Epoch 198/500\n",
      "10/10 [==============================] - 2s 155ms/step - loss: 6.6131e-05 - categorical_accuracy: 1.0000\n",
      "Epoch 199/500\n",
      "10/10 [==============================] - 1s 146ms/step - loss: 6.4937e-05 - categorical_accuracy: 1.0000\n",
      "Epoch 200/500\n",
      "10/10 [==============================] - 1s 144ms/step - loss: 6.4295e-05 - categorical_accuracy: 1.0000\n",
      "Epoch 201/500\n",
      "10/10 [==============================] - 1s 142ms/step - loss: 6.2779e-05 - categorical_accuracy: 1.0000\n",
      "Epoch 202/500\n",
      "10/10 [==============================] - 1s 150ms/step - loss: 6.1950e-05 - categorical_accuracy: 1.0000\n",
      "Epoch 203/500\n",
      "10/10 [==============================] - 2s 152ms/step - loss: 6.0748e-05 - categorical_accuracy: 1.0000\n",
      "Epoch 204/500\n",
      "10/10 [==============================] - 1s 142ms/step - loss: 5.9878e-05 - categorical_accuracy: 1.0000\n",
      "Epoch 205/500\n",
      "10/10 [==============================] - 2s 152ms/step - loss: 5.8823e-05 - categorical_accuracy: 1.0000\n",
      "Epoch 206/500\n",
      "10/10 [==============================] - 1s 142ms/step - loss: 5.7997e-05 - categorical_accuracy: 1.0000\n",
      "Epoch 207/500\n",
      "10/10 [==============================] - 1s 145ms/step - loss: 5.6953e-05 - categorical_accuracy: 1.0000\n",
      "Epoch 208/500\n",
      "10/10 [==============================] - 1s 142ms/step - loss: 5.6160e-05 - categorical_accuracy: 1.0000\n",
      "Epoch 209/500\n",
      "10/10 [==============================] - 1s 148ms/step - loss: 5.5238e-05 - categorical_accuracy: 1.0000\n",
      "Epoch 210/500\n",
      "10/10 [==============================] - 1s 143ms/step - loss: 5.4336e-05 - categorical_accuracy: 1.0000\n",
      "Epoch 211/500\n",
      "10/10 [==============================] - 1s 144ms/step - loss: 5.3535e-05 - categorical_accuracy: 1.0000\n",
      "Epoch 212/500\n",
      "10/10 [==============================] - 1s 145ms/step - loss: 5.2694e-05 - categorical_accuracy: 1.0000\n",
      "Epoch 213/500\n",
      "10/10 [==============================] - 2s 153ms/step - loss: 5.1824e-05 - categorical_accuracy: 1.0000\n",
      "Epoch 214/500\n",
      "10/10 [==============================] - 1s 143ms/step - loss: 5.1078e-05 - categorical_accuracy: 1.0000\n",
      "Epoch 215/500\n",
      "10/10 [==============================] - 1s 147ms/step - loss: 5.0279e-05 - categorical_accuracy: 1.0000\n",
      "Epoch 216/500\n",
      "10/10 [==============================] - 1s 146ms/step - loss: 4.9575e-05 - categorical_accuracy: 1.0000\n",
      "Epoch 217/500\n",
      "10/10 [==============================] - 1s 145ms/step - loss: 4.8754e-05 - categorical_accuracy: 1.0000\n",
      "Epoch 218/500\n",
      "10/10 [==============================] - 1s 143ms/step - loss: 4.7957e-05 - categorical_accuracy: 1.0000\n",
      "Epoch 219/500\n",
      "10/10 [==============================] - 1s 146ms/step - loss: 4.7422e-05 - categorical_accuracy: 1.0000\n",
      "Epoch 220/500\n",
      "10/10 [==============================] - 1s 150ms/step - loss: 4.6758e-05 - categorical_accuracy: 1.0000\n",
      "Epoch 221/500\n",
      "10/10 [==============================] - 2s 161ms/step - loss: 4.5919e-05 - categorical_accuracy: 1.0000\n",
      "Epoch 222/500\n",
      "10/10 [==============================] - 2s 161ms/step - loss: 4.5283e-05 - categorical_accuracy: 1.0000\n",
      "Epoch 223/500\n",
      "10/10 [==============================] - 2s 169ms/step - loss: 4.4544e-05 - categorical_accuracy: 1.0000\n",
      "Epoch 224/500\n",
      "10/10 [==============================] - 2s 155ms/step - loss: 4.3973e-05 - categorical_accuracy: 1.0000\n",
      "Epoch 225/500\n",
      "10/10 [==============================] - 1s 143ms/step - loss: 4.3372e-05 - categorical_accuracy: 1.0000\n",
      "Epoch 226/500\n",
      "10/10 [==============================] - 2s 159ms/step - loss: 4.2639e-05 - categorical_accuracy: 1.0000\n",
      "Epoch 227/500\n",
      "10/10 [==============================] - 2s 157ms/step - loss: 4.2052e-05 - categorical_accuracy: 1.0000\n",
      "Epoch 228/500\n",
      "10/10 [==============================] - 2s 153ms/step - loss: 4.1449e-05 - categorical_accuracy: 1.0000\n",
      "Epoch 229/500\n",
      "10/10 [==============================] - 2s 152ms/step - loss: 4.0818e-05 - categorical_accuracy: 1.0000\n",
      "Epoch 230/500\n",
      "10/10 [==============================] - 2s 162ms/step - loss: 4.0257e-05 - categorical_accuracy: 1.0000\n",
      "Epoch 231/500\n",
      "10/10 [==============================] - 2s 153ms/step - loss: 3.9651e-05 - categorical_accuracy: 1.0000\n",
      "Epoch 232/500\n",
      "10/10 [==============================] - 2s 151ms/step - loss: 3.9135e-05 - categorical_accuracy: 1.0000\n",
      "Epoch 233/500\n",
      "10/10 [==============================] - 2s 151ms/step - loss: 3.8575e-05 - categorical_accuracy: 1.0000\n",
      "Epoch 234/500\n",
      "10/10 [==============================] - 2s 151ms/step - loss: 3.8072e-05 - categorical_accuracy: 1.0000\n",
      "Epoch 235/500\n",
      "10/10 [==============================] - 2s 160ms/step - loss: 3.7523e-05 - categorical_accuracy: 1.0000\n",
      "Epoch 236/500\n",
      "10/10 [==============================] - 2s 150ms/step - loss: 3.6949e-05 - categorical_accuracy: 1.0000\n",
      "Epoch 237/500\n",
      "10/10 [==============================] - 2s 157ms/step - loss: 3.6512e-05 - categorical_accuracy: 1.0000\n",
      "Epoch 238/500\n",
      "10/10 [==============================] - 2s 153ms/step - loss: 3.6029e-05 - categorical_accuracy: 1.0000\n",
      "Epoch 239/500\n",
      "10/10 [==============================] - 2s 161ms/step - loss: 3.5453e-05 - categorical_accuracy: 1.0000\n",
      "Epoch 240/500\n",
      "10/10 [==============================] - 1s 150ms/step - loss: 3.5033e-05 - categorical_accuracy: 1.0000\n",
      "Epoch 241/500\n",
      "10/10 [==============================] - 2s 154ms/step - loss: 3.4559e-05 - categorical_accuracy: 1.0000\n",
      "Epoch 242/500\n",
      "10/10 [==============================] - 2s 164ms/step - loss: 3.4068e-05 - categorical_accuracy: 1.0000\n",
      "Epoch 243/500\n",
      "10/10 [==============================] - 2s 151ms/step - loss: 3.3629e-05 - categorical_accuracy: 1.0000\n",
      "Epoch 244/500\n",
      "10/10 [==============================] - 1s 147ms/step - loss: 3.3136e-05 - categorical_accuracy: 1.0000\n",
      "Epoch 245/500\n",
      "10/10 [==============================] - 1s 147ms/step - loss: 3.2723e-05 - categorical_accuracy: 1.0000\n",
      "Epoch 246/500\n",
      "10/10 [==============================] - 2s 157ms/step - loss: 3.2266e-05 - categorical_accuracy: 1.0000\n",
      "Epoch 247/500\n",
      "10/10 [==============================] - 2s 152ms/step - loss: 3.1770e-05 - categorical_accuracy: 1.0000\n",
      "Epoch 248/500\n",
      "10/10 [==============================] - 2s 151ms/step - loss: 3.1354e-05 - categorical_accuracy: 1.0000\n",
      "Epoch 249/500\n",
      "10/10 [==============================] - 2s 162ms/step - loss: 3.0968e-05 - categorical_accuracy: 1.0000\n",
      "Epoch 250/500\n",
      "10/10 [==============================] - 2s 152ms/step - loss: 3.0651e-05 - categorical_accuracy: 1.0000\n",
      "Epoch 251/500\n",
      "10/10 [==============================] - 2s 156ms/step - loss: 3.0186e-05 - categorical_accuracy: 1.0000\n",
      "Epoch 252/500\n",
      "10/10 [==============================] - 2s 162ms/step - loss: 2.9754e-05 - categorical_accuracy: 1.0000\n",
      "Epoch 253/500\n",
      "10/10 [==============================] - 2s 153ms/step - loss: 2.9363e-05 - categorical_accuracy: 1.0000\n",
      "Epoch 254/500\n",
      "10/10 [==============================] - 2s 151ms/step - loss: 2.8944e-05 - categorical_accuracy: 1.0000\n",
      "Epoch 255/500\n",
      "10/10 [==============================] - 2s 155ms/step - loss: 2.8638e-05 - categorical_accuracy: 1.0000\n",
      "Epoch 256/500\n",
      "10/10 [==============================] - 2s 153ms/step - loss: 2.8212e-05 - categorical_accuracy: 1.0000\n",
      "Epoch 257/500\n",
      "10/10 [==============================] - 2s 156ms/step - loss: 2.7854e-05 - categorical_accuracy: 1.0000\n",
      "Epoch 258/500\n",
      "10/10 [==============================] - 2s 153ms/step - loss: 2.7522e-05 - categorical_accuracy: 1.0000\n",
      "Epoch 259/500\n",
      "10/10 [==============================] - 2s 167ms/step - loss: 2.7157e-05 - categorical_accuracy: 1.0000\n",
      "Epoch 260/500\n",
      "10/10 [==============================] - 2s 165ms/step - loss: 2.6806e-05 - categorical_accuracy: 1.0000\n",
      "Epoch 261/500\n",
      "10/10 [==============================] - 2s 167ms/step - loss: 2.6412e-05 - categorical_accuracy: 1.0000\n",
      "Epoch 262/500\n",
      "10/10 [==============================] - 2s 175ms/step - loss: 2.6119e-05 - categorical_accuracy: 1.0000\n",
      "Epoch 263/500\n",
      "10/10 [==============================] - 2s 166ms/step - loss: 2.5752e-05 - categorical_accuracy: 1.0000\n",
      "Epoch 264/500\n",
      "10/10 [==============================] - 2s 168ms/step - loss: 2.5430e-05 - categorical_accuracy: 1.0000\n",
      "Epoch 265/500\n",
      "10/10 [==============================] - 2s 174ms/step - loss: 2.5165e-05 - categorical_accuracy: 1.0000\n",
      "Epoch 266/500\n",
      "10/10 [==============================] - 2s 167ms/step - loss: 2.4796e-05 - categorical_accuracy: 1.0000\n",
      "Epoch 267/500\n",
      "10/10 [==============================] - 2s 167ms/step - loss: 2.4491e-05 - categorical_accuracy: 1.0000\n",
      "Epoch 268/500\n",
      "10/10 [==============================] - 2s 168ms/step - loss: 2.4180e-05 - categorical_accuracy: 1.0000\n",
      "Epoch 269/500\n",
      "10/10 [==============================] - 2s 168ms/step - loss: 2.3870e-05 - categorical_accuracy: 1.0000\n",
      "Epoch 270/500\n",
      "10/10 [==============================] - 2s 165ms/step - loss: 2.3540e-05 - categorical_accuracy: 1.0000\n",
      "Epoch 271/500\n",
      "10/10 [==============================] - 2s 166ms/step - loss: 2.3259e-05 - categorical_accuracy: 1.0000\n",
      "Epoch 272/500\n",
      "10/10 [==============================] - 2s 171ms/step - loss: 2.3033e-05 - categorical_accuracy: 1.0000\n",
      "Epoch 273/500\n",
      "10/10 [==============================] - 2s 170ms/step - loss: 2.2682e-05 - categorical_accuracy: 1.0000\n",
      "Epoch 274/500\n",
      "10/10 [==============================] - 2s 173ms/step - loss: 2.2400e-05 - categorical_accuracy: 1.0000\n",
      "Epoch 275/500\n",
      "10/10 [==============================] - 2s 172ms/step - loss: 2.2178e-05 - categorical_accuracy: 1.0000\n",
      "Epoch 276/500\n",
      "10/10 [==============================] - 2s 170ms/step - loss: 2.1923e-05 - categorical_accuracy: 1.0000\n",
      "Epoch 277/500\n",
      "10/10 [==============================] - 2s 168ms/step - loss: 2.1604e-05 - categorical_accuracy: 1.0000\n",
      "Epoch 278/500\n",
      "10/10 [==============================] - 2s 166ms/step - loss: 2.1368e-05 - categorical_accuracy: 1.0000\n",
      "Epoch 279/500\n",
      "10/10 [==============================] - 2s 171ms/step - loss: 2.1116e-05 - categorical_accuracy: 1.0000\n",
      "Epoch 280/500\n",
      "10/10 [==============================] - 2s 169ms/step - loss: 2.0827e-05 - categorical_accuracy: 1.0000\n",
      "Epoch 281/500\n",
      "10/10 [==============================] - 2s 166ms/step - loss: 2.0591e-05 - categorical_accuracy: 1.0000\n",
      "Epoch 282/500\n",
      "10/10 [==============================] - 2s 166ms/step - loss: 2.0355e-05 - categorical_accuracy: 1.0000\n",
      "Epoch 283/500\n",
      "10/10 [==============================] - 2s 164ms/step - loss: 2.0116e-05 - categorical_accuracy: 1.0000\n",
      "Epoch 284/500\n",
      "10/10 [==============================] - 2s 165ms/step - loss: 1.9865e-05 - categorical_accuracy: 1.0000\n",
      "Epoch 285/500\n",
      "10/10 [==============================] - 2s 170ms/step - loss: 1.9672e-05 - categorical_accuracy: 1.0000\n",
      "Epoch 286/500\n",
      "10/10 [==============================] - 2s 168ms/step - loss: 1.9396e-05 - categorical_accuracy: 1.0000\n",
      "Epoch 287/500\n",
      "10/10 [==============================] - 2s 167ms/step - loss: 1.9190e-05 - categorical_accuracy: 1.0000\n",
      "Epoch 288/500\n",
      "10/10 [==============================] - 2s 172ms/step - loss: 1.8971e-05 - categorical_accuracy: 1.0000\n",
      "Epoch 289/500\n",
      "10/10 [==============================] - 2s 161ms/step - loss: 1.8699e-05 - categorical_accuracy: 1.0000\n",
      "Epoch 290/500\n",
      "10/10 [==============================] - 2s 163ms/step - loss: 1.8510e-05 - categorical_accuracy: 1.0000\n",
      "Epoch 291/500\n",
      "10/10 [==============================] - 2s 166ms/step - loss: 1.8291e-05 - categorical_accuracy: 1.0000\n",
      "Epoch 292/500\n",
      "10/10 [==============================] - 2s 160ms/step - loss: 1.8082e-05 - categorical_accuracy: 1.0000\n",
      "Epoch 293/500\n",
      "10/10 [==============================] - 2s 160ms/step - loss: 1.7852e-05 - categorical_accuracy: 1.0000\n",
      "Epoch 294/500\n",
      "10/10 [==============================] - 2s 167ms/step - loss: 1.7698e-05 - categorical_accuracy: 1.0000\n",
      "Epoch 295/500\n",
      "10/10 [==============================] - 2s 166ms/step - loss: 1.7504e-05 - categorical_accuracy: 1.0000\n",
      "Epoch 296/500\n",
      "10/10 [==============================] - 2s 167ms/step - loss: 1.7239e-05 - categorical_accuracy: 1.0000\n",
      "Epoch 297/500\n",
      "10/10 [==============================] - 2s 166ms/step - loss: 1.7049e-05 - categorical_accuracy: 1.0000\n",
      "Epoch 298/500\n",
      "10/10 [==============================] - 2s 162ms/step - loss: 1.6849e-05 - categorical_accuracy: 1.0000\n",
      "Epoch 299/500\n",
      "10/10 [==============================] - 2s 161ms/step - loss: 1.6663e-05 - categorical_accuracy: 1.0000\n",
      "Epoch 300/500\n",
      "10/10 [==============================] - 2s 155ms/step - loss: 1.6488e-05 - categorical_accuracy: 1.0000\n",
      "Epoch 301/500\n",
      "10/10 [==============================] - 2s 154ms/step - loss: 1.6264e-05 - categorical_accuracy: 1.0000\n",
      "Epoch 302/500\n",
      "10/10 [==============================] - 1s 142ms/step - loss: 1.6096e-05 - categorical_accuracy: 1.0000\n",
      "Epoch 303/500\n",
      "10/10 [==============================] - 1s 144ms/step - loss: 1.5896e-05 - categorical_accuracy: 1.0000\n",
      "Epoch 304/500\n",
      "10/10 [==============================] - 2s 152ms/step - loss: 1.5733e-05 - categorical_accuracy: 1.0000\n",
      "Epoch 305/500\n",
      "10/10 [==============================] - 1s 143ms/step - loss: 1.5532e-05 - categorical_accuracy: 1.0000\n",
      "Epoch 306/500\n",
      "10/10 [==============================] - 2s 150ms/step - loss: 1.5366e-05 - categorical_accuracy: 1.0000\n",
      "Epoch 307/500\n",
      "10/10 [==============================] - 1s 146ms/step - loss: 1.5175e-05 - categorical_accuracy: 1.0000\n",
      "Epoch 308/500\n",
      "10/10 [==============================] - 1s 146ms/step - loss: 1.5032e-05 - categorical_accuracy: 1.0000\n",
      "Epoch 309/500\n",
      "10/10 [==============================] - 1s 140ms/step - loss: 1.4830e-05 - categorical_accuracy: 1.0000\n",
      "Epoch 310/500\n",
      "10/10 [==============================] - 1s 146ms/step - loss: 1.4662e-05 - categorical_accuracy: 1.0000\n",
      "Epoch 311/500\n",
      "10/10 [==============================] - 1s 145ms/step - loss: 1.4502e-05 - categorical_accuracy: 1.0000\n",
      "Epoch 312/500\n",
      "10/10 [==============================] - 2s 157ms/step - loss: 1.4327e-05 - categorical_accuracy: 1.0000\n",
      "Epoch 313/500\n",
      "10/10 [==============================] - 1s 151ms/step - loss: 1.4194e-05 - categorical_accuracy: 1.0000\n",
      "Epoch 314/500\n",
      "10/10 [==============================] - 1s 141ms/step - loss: 1.4025e-05 - categorical_accuracy: 1.0000\n",
      "Epoch 315/500\n",
      "10/10 [==============================] - 1s 145ms/step - loss: 1.3835e-05 - categorical_accuracy: 1.0000\n",
      "Epoch 316/500\n",
      "10/10 [==============================] - 1s 147ms/step - loss: 1.3699e-05 - categorical_accuracy: 1.0000\n",
      "Epoch 317/500\n",
      "10/10 [==============================] - 1s 142ms/step - loss: 1.3561e-05 - categorical_accuracy: 1.0000\n",
      "Epoch 318/500\n",
      "10/10 [==============================] - 1s 146ms/step - loss: 1.3377e-05 - categorical_accuracy: 1.0000\n",
      "Epoch 319/500\n",
      "10/10 [==============================] - 1s 149ms/step - loss: 1.3244e-05 - categorical_accuracy: 1.0000\n",
      "Epoch 320/500\n",
      "10/10 [==============================] - 1s 145ms/step - loss: 1.3084e-05 - categorical_accuracy: 1.0000\n",
      "Epoch 321/500\n",
      "10/10 [==============================] - 1s 142ms/step - loss: 1.2940e-05 - categorical_accuracy: 1.0000\n",
      "Epoch 322/500\n",
      "10/10 [==============================] - 1s 143ms/step - loss: 1.2805e-05 - categorical_accuracy: 1.0000\n",
      "Epoch 323/500\n",
      "10/10 [==============================] - 1s 146ms/step - loss: 1.2656e-05 - categorical_accuracy: 1.0000\n",
      "Epoch 324/500\n",
      "10/10 [==============================] - 1s 141ms/step - loss: 1.2525e-05 - categorical_accuracy: 1.0000\n",
      "Epoch 325/500\n",
      "10/10 [==============================] - 1s 149ms/step - loss: 1.2376e-05 - categorical_accuracy: 1.0000\n",
      "Epoch 326/500\n",
      "10/10 [==============================] - 1s 142ms/step - loss: 1.2240e-05 - categorical_accuracy: 1.0000\n",
      "Epoch 327/500\n",
      "10/10 [==============================] - 1s 144ms/step - loss: 1.2104e-05 - categorical_accuracy: 1.0000\n",
      "Epoch 328/500\n",
      "10/10 [==============================] - 1s 140ms/step - loss: 1.1975e-05 - categorical_accuracy: 1.0000\n",
      "Epoch 329/500\n",
      "10/10 [==============================] - 1s 143ms/step - loss: 1.1833e-05 - categorical_accuracy: 1.0000\n",
      "Epoch 330/500\n",
      "10/10 [==============================] - 2s 153ms/step - loss: 1.1729e-05 - categorical_accuracy: 1.0000\n",
      "Epoch 331/500\n",
      "10/10 [==============================] - 1s 142ms/step - loss: 1.1604e-05 - categorical_accuracy: 1.0000\n",
      "Epoch 332/500\n",
      "10/10 [==============================] - 1s 146ms/step - loss: 1.1456e-05 - categorical_accuracy: 1.0000\n",
      "Epoch 333/500\n",
      "10/10 [==============================] - 1s 140ms/step - loss: 1.1354e-05 - categorical_accuracy: 1.0000\n",
      "Epoch 334/500\n",
      "10/10 [==============================] - 1s 142ms/step - loss: 1.1236e-05 - categorical_accuracy: 1.0000\n",
      "Epoch 335/500\n",
      "10/10 [==============================] - 2s 153ms/step - loss: 1.1100e-05 - categorical_accuracy: 1.0000\n",
      "Epoch 336/500\n",
      "10/10 [==============================] - 1s 139ms/step - loss: 1.0998e-05 - categorical_accuracy: 1.0000\n",
      "Epoch 337/500\n",
      "10/10 [==============================] - 1s 145ms/step - loss: 1.0873e-05 - categorical_accuracy: 1.0000\n",
      "Epoch 338/500\n",
      "10/10 [==============================] - 1s 148ms/step - loss: 1.0773e-05 - categorical_accuracy: 1.0000\n",
      "Epoch 339/500\n",
      "10/10 [==============================] - 1s 142ms/step - loss: 1.0653e-05 - categorical_accuracy: 1.0000\n",
      "Epoch 340/500\n",
      "10/10 [==============================] - 1s 146ms/step - loss: 1.0539e-05 - categorical_accuracy: 1.0000\n",
      "Epoch 341/500\n",
      "10/10 [==============================] - 2s 146ms/step - loss: 1.0432e-05 - categorical_accuracy: 1.0000\n",
      "Epoch 342/500\n",
      "10/10 [==============================] - 1s 145ms/step - loss: 1.0338e-05 - categorical_accuracy: 1.0000\n",
      "Epoch 343/500\n",
      "10/10 [==============================] - 1s 141ms/step - loss: 1.0225e-05 - categorical_accuracy: 1.0000\n",
      "Epoch 344/500\n",
      "10/10 [==============================] - 2s 147ms/step - loss: 1.0132e-05 - categorical_accuracy: 1.0000\n",
      "Epoch 345/500\n",
      "10/10 [==============================] - 1s 141ms/step - loss: 1.0024e-05 - categorical_accuracy: 1.0000\n",
      "Epoch 346/500\n",
      "10/10 [==============================] - 1s 144ms/step - loss: 9.9219e-06 - categorical_accuracy: 1.0000\n",
      "Epoch 347/500\n",
      "10/10 [==============================] - 2s 144ms/step - loss: 9.8260e-06 - categorical_accuracy: 1.0000\n",
      "Epoch 348/500\n",
      "10/10 [==============================] - 1s 140ms/step - loss: 9.7248e-06 - categorical_accuracy: 1.0000\n",
      "Epoch 349/500\n",
      "10/10 [==============================] - 1s 146ms/step - loss: 9.6316e-06 - categorical_accuracy: 1.0000\n",
      "Epoch 350/500\n",
      "10/10 [==============================] - 1s 143ms/step - loss: 9.5299e-06 - categorical_accuracy: 1.0000\n",
      "Epoch 351/500\n",
      "10/10 [==============================] - 1s 147ms/step - loss: 9.4463e-06 - categorical_accuracy: 1.0000\n",
      "Epoch 352/500\n",
      "10/10 [==============================] - 2s 154ms/step - loss: 9.3523e-06 - categorical_accuracy: 1.0000\n",
      "Epoch 353/500\n",
      "10/10 [==============================] - 1s 143ms/step - loss: 9.2560e-06 - categorical_accuracy: 1.0000\n",
      "Epoch 354/500\n",
      "10/10 [==============================] - 1s 144ms/step - loss: 9.1601e-06 - categorical_accuracy: 1.0000\n",
      "Epoch 355/500\n",
      "10/10 [==============================] - 1s 146ms/step - loss: 9.0810e-06 - categorical_accuracy: 1.0000\n",
      "Epoch 356/500\n",
      "10/10 [==============================] - 2s 152ms/step - loss: 8.9916e-06 - categorical_accuracy: 1.0000\n",
      "Epoch 357/500\n",
      "10/10 [==============================] - 1s 150ms/step - loss: 8.9030e-06 - categorical_accuracy: 1.0000\n",
      "Epoch 358/500\n",
      "10/10 [==============================] - 1s 148ms/step - loss: 8.8155e-06 - categorical_accuracy: 1.0000\n",
      "Epoch 359/500\n",
      "10/10 [==============================] - 2s 149ms/step - loss: 8.7356e-06 - categorical_accuracy: 1.0000\n",
      "Epoch 360/500\n",
      "10/10 [==============================] - 1s 150ms/step - loss: 8.6520e-06 - categorical_accuracy: 1.0000\n",
      "Epoch 361/500\n",
      "10/10 [==============================] - 1s 149ms/step - loss: 8.5664e-06 - categorical_accuracy: 1.0000\n",
      "Epoch 362/500\n",
      "10/10 [==============================] - 1s 145ms/step - loss: 8.4823e-06 - categorical_accuracy: 1.0000\n",
      "Epoch 363/500\n",
      "10/10 [==============================] - 2s 151ms/step - loss: 8.3998e-06 - categorical_accuracy: 1.0000\n",
      "Epoch 364/500\n",
      "10/10 [==============================] - 1s 142ms/step - loss: 8.3150e-06 - categorical_accuracy: 1.0000\n",
      "Epoch 365/500\n",
      "10/10 [==============================] - 1s 146ms/step - loss: 8.2374e-06 - categorical_accuracy: 1.0000\n",
      "Epoch 366/500\n",
      "10/10 [==============================] - 1s 146ms/step - loss: 8.1759e-06 - categorical_accuracy: 1.0000\n",
      "Epoch 367/500\n",
      "10/10 [==============================] - 1s 142ms/step - loss: 8.0819e-06 - categorical_accuracy: 1.0000\n",
      "Epoch 368/500\n",
      "10/10 [==============================] - 1s 148ms/step - loss: 8.0090e-06 - categorical_accuracy: 1.0000\n",
      "Epoch 369/500\n",
      "10/10 [==============================] - 2s 150ms/step - loss: 7.9333e-06 - categorical_accuracy: 1.0000\n",
      "Epoch 370/500\n",
      "10/10 [==============================] - 2s 152ms/step - loss: 7.8561e-06 - categorical_accuracy: 1.0000\n",
      "Epoch 371/500\n",
      "10/10 [==============================] - 1s 148ms/step - loss: 7.7858e-06 - categorical_accuracy: 1.0000\n",
      "Epoch 372/500\n",
      "10/10 [==============================] - 2s 156ms/step - loss: 7.7068e-06 - categorical_accuracy: 1.0000\n",
      "Epoch 373/500\n",
      "10/10 [==============================] - 1s 143ms/step - loss: 7.6414e-06 - categorical_accuracy: 1.0000\n",
      "Epoch 374/500\n",
      "10/10 [==============================] - 1s 141ms/step - loss: 7.5665e-06 - categorical_accuracy: 1.0000\n",
      "Epoch 375/500\n",
      "10/10 [==============================] - 2s 152ms/step - loss: 7.4997e-06 - categorical_accuracy: 1.0000\n",
      "Epoch 376/500\n",
      "10/10 [==============================] - 1s 142ms/step - loss: 7.4313e-06 - categorical_accuracy: 1.0000\n",
      "Epoch 377/500\n",
      "10/10 [==============================] - 1s 149ms/step - loss: 7.3533e-06 - categorical_accuracy: 1.0000\n",
      "Epoch 378/500\n",
      "10/10 [==============================] - 1s 143ms/step - loss: 7.2876e-06 - categorical_accuracy: 1.0000\n",
      "Epoch 379/500\n",
      "10/10 [==============================] - 1s 143ms/step - loss: 7.2200e-06 - categorical_accuracy: 1.0000\n",
      "Epoch 380/500\n",
      "10/10 [==============================] - 2s 152ms/step - loss: 7.1570e-06 - categorical_accuracy: 1.0000\n",
      "Epoch 381/500\n",
      "10/10 [==============================] - 1s 148ms/step - loss: 7.0817e-06 - categorical_accuracy: 1.0000\n",
      "Epoch 382/500\n",
      "10/10 [==============================] - 2s 150ms/step - loss: 7.0221e-06 - categorical_accuracy: 1.0000\n",
      "Epoch 383/500\n",
      "10/10 [==============================] - 1s 148ms/step - loss: 6.9625e-06 - categorical_accuracy: 1.0000\n",
      "Epoch 384/500\n",
      "10/10 [==============================] - 1s 148ms/step - loss: 6.9044e-06 - categorical_accuracy: 1.0000\n",
      "Epoch 385/500\n",
      "10/10 [==============================] - 1s 143ms/step - loss: 6.8360e-06 - categorical_accuracy: 1.0000\n",
      "Epoch 386/500\n",
      "10/10 [==============================] - 1s 150ms/step - loss: 6.7764e-06 - categorical_accuracy: 1.0000\n",
      "Epoch 387/500\n",
      "10/10 [==============================] - 1s 145ms/step - loss: 6.7180e-06 - categorical_accuracy: 1.0000\n",
      "Epoch 388/500\n",
      "10/10 [==============================] - 1s 141ms/step - loss: 6.6553e-06 - categorical_accuracy: 1.0000\n",
      "Epoch 389/500\n",
      "10/10 [==============================] - 1s 147ms/step - loss: 6.5869e-06 - categorical_accuracy: 1.0000\n",
      "Epoch 390/500\n",
      "10/10 [==============================] - 1s 143ms/step - loss: 6.5189e-06 - categorical_accuracy: 1.0000\n",
      "Epoch 391/500\n",
      "10/10 [==============================] - 1s 146ms/step - loss: 6.4440e-06 - categorical_accuracy: 1.0000\n",
      "Epoch 392/500\n",
      "10/10 [==============================] - 1s 145ms/step - loss: 6.3741e-06 - categorical_accuracy: 1.0000\n",
      "Epoch 393/500\n",
      "10/10 [==============================] - 1s 142ms/step - loss: 6.3138e-06 - categorical_accuracy: 1.0000\n",
      "Epoch 394/500\n",
      "10/10 [==============================] - 2s 152ms/step - loss: 6.2561e-06 - categorical_accuracy: 1.0000\n",
      "Epoch 395/500\n",
      "10/10 [==============================] - 1s 143ms/step - loss: 6.1949e-06 - categorical_accuracy: 1.0000\n",
      "Epoch 396/500\n",
      "10/10 [==============================] - 1s 145ms/step - loss: 6.1403e-06 - categorical_accuracy: 1.0000\n",
      "Epoch 397/500\n",
      "10/10 [==============================] - 1s 148ms/step - loss: 6.0799e-06 - categorical_accuracy: 1.0000\n",
      "Epoch 398/500\n",
      "10/10 [==============================] - 1s 144ms/step - loss: 6.0276e-06 - categorical_accuracy: 1.0000\n",
      "Epoch 399/500\n",
      "10/10 [==============================] - 1s 146ms/step - loss: 5.9768e-06 - categorical_accuracy: 1.0000\n",
      "Epoch 400/500\n",
      "10/10 [==============================] - 2s 154ms/step - loss: 5.9233e-06 - categorical_accuracy: 1.0000\n",
      "Epoch 401/500\n",
      "10/10 [==============================] - 1s 147ms/step - loss: 5.8740e-06 - categorical_accuracy: 1.0000\n",
      "Epoch 402/500\n",
      "10/10 [==============================] - 1s 148ms/step - loss: 5.8228e-06 - categorical_accuracy: 1.0000\n",
      "Epoch 403/500\n",
      "10/10 [==============================] - 1s 146ms/step - loss: 5.7632e-06 - categorical_accuracy: 1.0000\n",
      "Epoch 404/500\n",
      "10/10 [==============================] - 1s 141ms/step - loss: 5.7185e-06 - categorical_accuracy: 1.0000\n",
      "Epoch 405/500\n",
      "10/10 [==============================] - 1s 146ms/step - loss: 5.6688e-06 - categorical_accuracy: 1.0000\n",
      "Epoch 406/500\n",
      "10/10 [==============================] - 1s 144ms/step - loss: 5.6123e-06 - categorical_accuracy: 1.0000\n",
      "Epoch 407/500\n",
      "10/10 [==============================] - 1s 141ms/step - loss: 5.5771e-06 - categorical_accuracy: 1.0000\n",
      "Epoch 408/500\n",
      "10/10 [==============================] - 2s 147ms/step - loss: 5.5202e-06 - categorical_accuracy: 1.0000\n",
      "Epoch 409/500\n",
      "10/10 [==============================] - 1s 141ms/step - loss: 5.4724e-06 - categorical_accuracy: 1.0000\n",
      "Epoch 410/500\n",
      "10/10 [==============================] - 1s 149ms/step - loss: 5.4247e-06 - categorical_accuracy: 1.0000\n",
      "Epoch 411/500\n",
      "10/10 [==============================] - 1s 143ms/step - loss: 5.3743e-06 - categorical_accuracy: 1.0000\n",
      "Epoch 412/500\n",
      "10/10 [==============================] - 1s 141ms/step - loss: 5.3315e-06 - categorical_accuracy: 1.0000\n",
      "Epoch 413/500\n",
      "10/10 [==============================] - 2s 153ms/step - loss: 5.2848e-06 - categorical_accuracy: 1.0000\n",
      "Epoch 414/500\n",
      "10/10 [==============================] - 1s 143ms/step - loss: 5.2382e-06 - categorical_accuracy: 1.0000\n",
      "Epoch 415/500\n",
      "10/10 [==============================] - 1s 144ms/step - loss: 5.1928e-06 - categorical_accuracy: 1.0000\n",
      "Epoch 416/500\n",
      "10/10 [==============================] - 1s 147ms/step - loss: 5.1465e-06 - categorical_accuracy: 1.0000\n",
      "Epoch 417/500\n",
      "10/10 [==============================] - 1s 144ms/step - loss: 5.1045e-06 - categorical_accuracy: 1.0000\n",
      "Epoch 418/500\n",
      "10/10 [==============================] - 1s 146ms/step - loss: 5.0632e-06 - categorical_accuracy: 1.0000\n",
      "Epoch 419/500\n",
      "10/10 [==============================] - 1s 140ms/step - loss: 5.0166e-06 - categorical_accuracy: 1.0000\n",
      "Epoch 420/500\n",
      "10/10 [==============================] - 1s 145ms/step - loss: 4.9704e-06 - categorical_accuracy: 1.0000\n",
      "Epoch 421/500\n",
      "10/10 [==============================] - 1s 146ms/step - loss: 4.9307e-06 - categorical_accuracy: 1.0000\n",
      "Epoch 422/500\n",
      "10/10 [==============================] - 1s 145ms/step - loss: 4.8871e-06 - categorical_accuracy: 1.0000\n",
      "Epoch 423/500\n",
      "10/10 [==============================] - 1s 150ms/step - loss: 4.8443e-06 - categorical_accuracy: 1.0000\n",
      "Epoch 424/500\n",
      "10/10 [==============================] - 1s 147ms/step - loss: 4.8031e-06 - categorical_accuracy: 1.0000\n",
      "Epoch 425/500\n",
      "10/10 [==============================] - 1s 143ms/step - loss: 4.7645e-06 - categorical_accuracy: 1.0000\n",
      "Epoch 426/500\n",
      "10/10 [==============================] - 1s 140ms/step - loss: 4.7156e-06 - categorical_accuracy: 1.0000\n",
      "Epoch 427/500\n",
      "10/10 [==============================] - 2s 151ms/step - loss: 4.6789e-06 - categorical_accuracy: 1.0000\n",
      "Epoch 428/500\n",
      "10/10 [==============================] - 1s 143ms/step - loss: 4.6426e-06 - categorical_accuracy: 1.0000\n",
      "Epoch 429/500\n",
      "10/10 [==============================] - 2s 152ms/step - loss: 4.6017e-06 - categorical_accuracy: 1.0000\n",
      "Epoch 430/500\n",
      "10/10 [==============================] - 1s 143ms/step - loss: 4.5627e-06 - categorical_accuracy: 1.0000\n",
      "Epoch 431/500\n",
      "10/10 [==============================] - 1s 144ms/step - loss: 4.5284e-06 - categorical_accuracy: 1.0000\n",
      "Epoch 432/500\n",
      "10/10 [==============================] - 2s 153ms/step - loss: 4.4917e-06 - categorical_accuracy: 1.0000\n",
      "Epoch 433/500\n",
      "10/10 [==============================] - 1s 140ms/step - loss: 4.4508e-06 - categorical_accuracy: 1.0000\n",
      "Epoch 434/500\n",
      "10/10 [==============================] - 1s 146ms/step - loss: 4.4141e-06 - categorical_accuracy: 1.0000\n",
      "Epoch 435/500\n",
      "10/10 [==============================] - 1s 144ms/step - loss: 4.3748e-06 - categorical_accuracy: 1.0000\n",
      "Epoch 436/500\n",
      "10/10 [==============================] - 1s 142ms/step - loss: 4.3423e-06 - categorical_accuracy: 1.0000\n",
      "Epoch 437/500\n",
      "10/10 [==============================] - 1s 146ms/step - loss: 4.3045e-06 - categorical_accuracy: 1.0000\n",
      "Epoch 438/500\n",
      "10/10 [==============================] - 1s 144ms/step - loss: 4.2705e-06 - categorical_accuracy: 1.0000\n",
      "Epoch 439/500\n",
      "10/10 [==============================] - 1s 145ms/step - loss: 4.2330e-06 - categorical_accuracy: 1.0000\n",
      "Epoch 440/500\n",
      "10/10 [==============================] - 1s 148ms/step - loss: 4.1937e-06 - categorical_accuracy: 1.0000\n",
      "Epoch 441/500\n",
      "10/10 [==============================] - 1s 144ms/step - loss: 4.1593e-06 - categorical_accuracy: 1.0000\n",
      "Epoch 442/500\n",
      "10/10 [==============================] - 1s 147ms/step - loss: 4.1241e-06 - categorical_accuracy: 1.0000\n",
      "Epoch 443/500\n",
      "10/10 [==============================] - 1s 144ms/step - loss: 4.0882e-06 - categorical_accuracy: 1.0000\n",
      "Epoch 444/500\n",
      "10/10 [==============================] - 1s 144ms/step - loss: 4.0557e-06 - categorical_accuracy: 1.0000\n",
      "Epoch 445/500\n",
      "10/10 [==============================] - 1s 146ms/step - loss: 4.0206e-06 - categorical_accuracy: 1.0000\n",
      "Epoch 446/500\n",
      "10/10 [==============================] - 1s 145ms/step - loss: 3.9900e-06 - categorical_accuracy: 1.0000\n",
      "Epoch 447/500\n",
      "10/10 [==============================] - 1s 143ms/step - loss: 3.9572e-06 - categorical_accuracy: 1.0000\n",
      "Epoch 448/500\n",
      "10/10 [==============================] - 1s 145ms/step - loss: 3.9243e-06 - categorical_accuracy: 1.0000\n",
      "Epoch 449/500\n",
      "10/10 [==============================] - 1s 141ms/step - loss: 3.8945e-06 - categorical_accuracy: 1.0000\n",
      "Epoch 450/500\n",
      "10/10 [==============================] - 1s 146ms/step - loss: 3.8578e-06 - categorical_accuracy: 1.0000\n",
      "Epoch 451/500\n",
      "10/10 [==============================] - 1s 147ms/step - loss: 3.8295e-06 - categorical_accuracy: 1.0000\n",
      "Epoch 452/500\n",
      "10/10 [==============================] - 1s 142ms/step - loss: 3.7997e-06 - categorical_accuracy: 1.0000\n",
      "Epoch 453/500\n",
      "10/10 [==============================] - 2s 154ms/step - loss: 3.7677e-06 - categorical_accuracy: 1.0000\n",
      "Epoch 454/500\n",
      "10/10 [==============================] - 1s 144ms/step - loss: 3.7333e-06 - categorical_accuracy: 1.0000\n",
      "Epoch 455/500\n",
      "10/10 [==============================] - 1s 149ms/step - loss: 3.7031e-06 - categorical_accuracy: 1.0000\n",
      "Epoch 456/500\n",
      "10/10 [==============================] - 1s 146ms/step - loss: 3.6729e-06 - categorical_accuracy: 1.0000\n",
      "Epoch 457/500\n",
      "10/10 [==============================] - 1s 141ms/step - loss: 3.6404e-06 - categorical_accuracy: 1.0000\n",
      "Epoch 458/500\n",
      "10/10 [==============================] - 2s 152ms/step - loss: 3.6118e-06 - categorical_accuracy: 1.0000\n",
      "Epoch 459/500\n",
      "10/10 [==============================] - 1s 145ms/step - loss: 3.5839e-06 - categorical_accuracy: 1.0000\n",
      "Epoch 460/500\n",
      "10/10 [==============================] - 1s 149ms/step - loss: 3.5506e-06 - categorical_accuracy: 1.0000\n",
      "Epoch 461/500\n",
      "10/10 [==============================] - 2s 151ms/step - loss: 3.5250e-06 - categorical_accuracy: 1.0000\n",
      "Epoch 462/500\n",
      "10/10 [==============================] - 1s 145ms/step - loss: 3.4952e-06 - categorical_accuracy: 1.0000\n",
      "Epoch 463/500\n",
      "10/10 [==============================] - 1s 145ms/step - loss: 3.4658e-06 - categorical_accuracy: 1.0000\n",
      "Epoch 464/500\n",
      "10/10 [==============================] - 1s 141ms/step - loss: 3.4444e-06 - categorical_accuracy: 1.0000\n",
      "Epoch 465/500\n",
      "10/10 [==============================] - 2s 153ms/step - loss: 3.4211e-06 - categorical_accuracy: 1.0000\n",
      "Epoch 466/500\n",
      "10/10 [==============================] - 1s 144ms/step - loss: 3.3848e-06 - categorical_accuracy: 1.0000\n",
      "Epoch 467/500\n",
      "10/10 [==============================] - 1s 145ms/step - loss: 3.3535e-06 - categorical_accuracy: 1.0000\n",
      "Epoch 468/500\n",
      "10/10 [==============================] - 1s 149ms/step - loss: 3.3233e-06 - categorical_accuracy: 1.0000\n",
      "Epoch 469/500\n",
      "10/10 [==============================] - 1s 148ms/step - loss: 3.2973e-06 - categorical_accuracy: 1.0000\n",
      "Epoch 470/500\n",
      "10/10 [==============================] - 1s 146ms/step - loss: 3.2698e-06 - categorical_accuracy: 1.0000\n",
      "Epoch 471/500\n",
      "10/10 [==============================] - 1s 140ms/step - loss: 3.2415e-06 - categorical_accuracy: 1.0000\n",
      "Epoch 472/500\n",
      "10/10 [==============================] - 2s 153ms/step - loss: 3.2148e-06 - categorical_accuracy: 1.0000\n",
      "Epoch 473/500\n",
      "10/10 [==============================] - 1s 141ms/step - loss: 3.1869e-06 - categorical_accuracy: 1.0000\n",
      "Epoch 474/500\n",
      "10/10 [==============================] - 1s 141ms/step - loss: 3.1579e-06 - categorical_accuracy: 1.0000\n",
      "Epoch 475/500\n",
      "10/10 [==============================] - 2s 147ms/step - loss: 3.1300e-06 - categorical_accuracy: 1.0000\n",
      "Epoch 476/500\n",
      "10/10 [==============================] - 1s 141ms/step - loss: 3.1067e-06 - categorical_accuracy: 1.0000\n",
      "Epoch 477/500\n",
      "10/10 [==============================] - 2s 152ms/step - loss: 3.0799e-06 - categorical_accuracy: 1.0000\n",
      "Epoch 478/500\n",
      "10/10 [==============================] - 1s 142ms/step - loss: 3.0589e-06 - categorical_accuracy: 1.0000\n",
      "Epoch 479/500\n",
      "10/10 [==============================] - 1s 144ms/step - loss: 3.0306e-06 - categorical_accuracy: 1.0000\n",
      "Epoch 480/500\n",
      "10/10 [==============================] - 2s 146ms/step - loss: 3.0054e-06 - categorical_accuracy: 1.0000\n",
      "Epoch 481/500\n",
      "10/10 [==============================] - 1s 143ms/step - loss: 2.9810e-06 - categorical_accuracy: 1.0000\n",
      "Epoch 482/500\n",
      "10/10 [==============================] - 1s 151ms/step - loss: 2.9542e-06 - categorical_accuracy: 1.0000\n",
      "Epoch 483/500\n",
      "10/10 [==============================] - 1s 145ms/step - loss: 2.9324e-06 - categorical_accuracy: 1.0000\n",
      "Epoch 484/500\n",
      "10/10 [==============================] - 1s 145ms/step - loss: 2.9107e-06 - categorical_accuracy: 1.0000\n",
      "Epoch 485/500\n",
      "10/10 [==============================] - 1s 141ms/step - loss: 2.8877e-06 - categorical_accuracy: 1.0000\n",
      "Epoch 486/500\n",
      "10/10 [==============================] - 1s 142ms/step - loss: 2.8637e-06 - categorical_accuracy: 1.0000\n",
      "Epoch 487/500\n",
      "10/10 [==============================] - 1s 150ms/step - loss: 2.8388e-06 - categorical_accuracy: 1.0000\n",
      "Epoch 488/500\n",
      "10/10 [==============================] - 1s 143ms/step - loss: 2.8117e-06 - categorical_accuracy: 1.0000\n",
      "Epoch 489/500\n",
      "10/10 [==============================] - 1s 149ms/step - loss: 2.7895e-06 - categorical_accuracy: 1.0000\n",
      "Epoch 490/500\n",
      "10/10 [==============================] - 1s 147ms/step - loss: 2.7659e-06 - categorical_accuracy: 1.0000\n",
      "Epoch 491/500\n",
      "10/10 [==============================] - 1s 143ms/step - loss: 2.7445e-06 - categorical_accuracy: 1.0000\n",
      "Epoch 492/500\n",
      "10/10 [==============================] - 1s 150ms/step - loss: 2.7234e-06 - categorical_accuracy: 1.0000\n",
      "Epoch 493/500\n",
      "10/10 [==============================] - 1s 140ms/step - loss: 2.7005e-06 - categorical_accuracy: 1.0000\n",
      "Epoch 494/500\n",
      "10/10 [==============================] - 1s 142ms/step - loss: 2.6822e-06 - categorical_accuracy: 1.0000\n",
      "Epoch 495/500\n",
      "10/10 [==============================] - 1s 147ms/step - loss: 2.6616e-06 - categorical_accuracy: 1.0000\n",
      "Epoch 496/500\n",
      "10/10 [==============================] - 1s 148ms/step - loss: 2.6382e-06 - categorical_accuracy: 1.0000\n",
      "Epoch 497/500\n",
      "10/10 [==============================] - 1s 145ms/step - loss: 2.6168e-06 - categorical_accuracy: 1.0000\n",
      "Epoch 498/500\n",
      "10/10 [==============================] - 1s 144ms/step - loss: 2.5951e-06 - categorical_accuracy: 1.0000\n",
      "Epoch 499/500\n",
      "10/10 [==============================] - 1s 143ms/step - loss: 2.5741e-06 - categorical_accuracy: 1.0000\n",
      "Epoch 500/500\n",
      "10/10 [==============================] - 1s 146ms/step - loss: 2.5569e-06 - categorical_accuracy: 1.0000\n"
     ]
    },
    {
     "data": {
      "text/plain": [
       "<keras.callbacks.History at 0x2a20a389670>"
      ]
     },
     "execution_count": 120,
     "metadata": {},
     "output_type": "execute_result"
    }
   ],
   "source": [
    "model.fit(X_train, y_train, epochs=200, callbacks=[tb_callback])"
   ]
  },
  {
   "cell_type": "code",
   "execution_count": 121,
   "metadata": {},
   "outputs": [
    {
     "name": "stdout",
     "output_type": "stream",
     "text": [
      "Model: \"sequential_7\"\n",
      "_________________________________________________________________\n",
      " Layer (type)                Output Shape              Param #   \n",
      "=================================================================\n",
      " lstm_21 (LSTM)              (None, 30, 64)            442112    \n",
      "                                                                 \n",
      " lstm_22 (LSTM)              (None, 30, 128)           98816     \n",
      "                                                                 \n",
      " lstm_23 (LSTM)              (None, 64)                49408     \n",
      "                                                                 \n",
      " dense_21 (Dense)            (None, 64)                4160      \n",
      "                                                                 \n",
      " dense_22 (Dense)            (None, 32)                2080      \n",
      "                                                                 \n",
      " dense_23 (Dense)            (None, 13)                429       \n",
      "                                                                 \n",
      "=================================================================\n",
      "Total params: 597,005\n",
      "Trainable params: 597,005\n",
      "Non-trainable params: 0\n",
      "_________________________________________________________________\n"
     ]
    }
   ],
   "source": [
    "model.summary()"
   ]
  },
  {
   "cell_type": "code",
   "execution_count": 47,
   "metadata": {},
   "outputs": [],
   "source": [
    "# tensorboard --logdir=."
   ]
  },
  {
   "cell_type": "markdown",
   "metadata": {},
   "source": [
    "# 8. Make Predictions"
   ]
  },
  {
   "cell_type": "code",
   "execution_count": 122,
   "metadata": {},
   "outputs": [
    {
     "name": "stdout",
     "output_type": "stream",
     "text": [
      "3/3 [==============================] - 1s 70ms/step\n"
     ]
    }
   ],
   "source": [
    "res = model.predict(X_test)"
   ]
  },
  {
   "cell_type": "code",
   "execution_count": 125,
   "metadata": {},
   "outputs": [
    {
     "data": {
      "text/plain": [
       "'how_are_you'"
      ]
     },
     "execution_count": 125,
     "metadata": {},
     "output_type": "execute_result"
    }
   ],
   "source": [
    "actions[np.argmax(res[0])]"
   ]
  },
  {
   "cell_type": "code",
   "execution_count": 126,
   "metadata": {},
   "outputs": [
    {
     "data": {
      "text/plain": [
       "'how_are_you'"
      ]
     },
     "execution_count": 126,
     "metadata": {},
     "output_type": "execute_result"
    }
   ],
   "source": [
    "actions[np.argmax(y_test[0])]"
   ]
  },
  {
   "cell_type": "markdown",
   "metadata": {},
   "source": [
    "# 9. Save Weights"
   ]
  },
  {
   "cell_type": "code",
   "execution_count": 128,
   "metadata": {},
   "outputs": [],
   "source": [
    "model.save('action.h5')"
   ]
  },
  {
   "cell_type": "code",
   "execution_count": 85,
   "metadata": {},
   "outputs": [],
   "source": [
    "del model"
   ]
  },
  {
   "cell_type": "code",
   "execution_count": 52,
   "metadata": {},
   "outputs": [],
   "source": [
    "model.load_weights('action.h5')"
   ]
  },
  {
   "cell_type": "markdown",
   "metadata": {},
   "source": [
    "# 10. Evaluation using Confusion Matrix and Accuracy"
   ]
  },
  {
   "cell_type": "code",
   "execution_count": 53,
   "metadata": {},
   "outputs": [],
   "source": [
    "from sklearn.metrics import multilabel_confusion_matrix, accuracy_score"
   ]
  },
  {
   "cell_type": "code",
   "execution_count": 129,
   "metadata": {},
   "outputs": [
    {
     "name": "stdout",
     "output_type": "stream",
     "text": [
      "3/3 [==============================] - 0s 69ms/step\n"
     ]
    }
   ],
   "source": [
    "yhat = model.predict(X_test)"
   ]
  },
  {
   "cell_type": "code",
   "execution_count": 130,
   "metadata": {},
   "outputs": [],
   "source": [
    "ytrue = np.argmax(y_test, axis=1).tolist()\n",
    "yhat = np.argmax(yhat, axis=1).tolist()"
   ]
  },
  {
   "cell_type": "code",
   "execution_count": 131,
   "metadata": {},
   "outputs": [
    {
     "data": {
      "text/plain": [
       "array([[[72,  1],\n",
       "        [ 0,  5]],\n",
       "\n",
       "       [[72,  0],\n",
       "        [ 1,  5]],\n",
       "\n",
       "       [[69,  2],\n",
       "        [ 1,  6]],\n",
       "\n",
       "       [[74,  0],\n",
       "        [ 1,  3]],\n",
       "\n",
       "       [[74,  0],\n",
       "        [ 1,  3]],\n",
       "\n",
       "       [[68,  0],\n",
       "        [ 2,  8]],\n",
       "\n",
       "       [[73,  0],\n",
       "        [ 0,  5]],\n",
       "\n",
       "       [[70,  1],\n",
       "        [ 1,  6]],\n",
       "\n",
       "       [[73,  1],\n",
       "        [ 0,  4]],\n",
       "\n",
       "       [[65,  4],\n",
       "        [ 2,  7]],\n",
       "\n",
       "       [[71,  1],\n",
       "        [ 0,  6]],\n",
       "\n",
       "       [[72,  0],\n",
       "        [ 1,  5]],\n",
       "\n",
       "       [[73,  0],\n",
       "        [ 0,  5]]], dtype=int64)"
      ]
     },
     "execution_count": 131,
     "metadata": {},
     "output_type": "execute_result"
    }
   ],
   "source": [
    "multilabel_confusion_matrix(ytrue, yhat)"
   ]
  },
  {
   "cell_type": "code",
   "execution_count": 132,
   "metadata": {},
   "outputs": [
    {
     "data": {
      "text/plain": [
       "0.8717948717948718"
      ]
     },
     "execution_count": 132,
     "metadata": {},
     "output_type": "execute_result"
    }
   ],
   "source": [
    "accuracy_score(ytrue, yhat)"
   ]
  },
  {
   "cell_type": "markdown",
   "metadata": {},
   "source": [
    "# 11. Test in Real Time"
   ]
  },
  {
   "cell_type": "code",
   "execution_count": 15,
   "metadata": {},
   "outputs": [],
   "source": [
    "from scipy import stats"
   ]
  },
  {
   "cell_type": "code",
   "execution_count": 16,
   "metadata": {},
   "outputs": [],
   "source": [
    "colors = [(245,117,16), (117,245,16), (16,117,245)]\n",
    "def prob_viz(res, actions, input_frame, colors):\n",
    "    output_frame = input_frame.copy()\n",
    "    for num, prob in enumerate(res):\n",
    "        cv2.rectangle(output_frame, (0,60+num*40), (int(prob*100), 90+num*40), colors[num], -1)\n",
    "        cv2.putText(output_frame, actions[num], (0, 85+num*40), cv2.FONT_HERSHEY_SIMPLEX, 1, (255,255,255), 2, cv2.LINE_AA)\n",
    "        \n",
    "    return output_frame"
   ]
  },
  {
   "cell_type": "code",
   "execution_count": 17,
   "metadata": {
    "collapsed": true
   },
   "outputs": [
    {
     "ename": "NameError",
     "evalue": "name 'res' is not defined",
     "output_type": "error",
     "traceback": [
      "\u001b[1;31m---------------------------------------------------------------------------\u001b[0m",
      "\u001b[1;31mNameError\u001b[0m                                 Traceback (most recent call last)",
      "\u001b[1;32m<ipython-input-17-0248883a8ffa>\u001b[0m in \u001b[0;36m<module>\u001b[1;34m\u001b[0m\n\u001b[0;32m      1\u001b[0m \u001b[0mplt\u001b[0m\u001b[1;33m.\u001b[0m\u001b[0mfigure\u001b[0m\u001b[1;33m(\u001b[0m\u001b[0mfigsize\u001b[0m\u001b[1;33m=\u001b[0m\u001b[1;33m(\u001b[0m\u001b[1;36m18\u001b[0m\u001b[1;33m,\u001b[0m\u001b[1;36m18\u001b[0m\u001b[1;33m)\u001b[0m\u001b[1;33m)\u001b[0m\u001b[1;33m\u001b[0m\u001b[1;33m\u001b[0m\u001b[0m\n\u001b[1;32m----> 2\u001b[1;33m \u001b[0mplt\u001b[0m\u001b[1;33m.\u001b[0m\u001b[0mimshow\u001b[0m\u001b[1;33m(\u001b[0m\u001b[0mprob_viz\u001b[0m\u001b[1;33m(\u001b[0m\u001b[0mres\u001b[0m\u001b[1;33m,\u001b[0m \u001b[0mactions\u001b[0m\u001b[1;33m,\u001b[0m \u001b[0mimage\u001b[0m\u001b[1;33m,\u001b[0m \u001b[0mcolors\u001b[0m\u001b[1;33m)\u001b[0m\u001b[1;33m)\u001b[0m\u001b[1;33m\u001b[0m\u001b[1;33m\u001b[0m\u001b[0m\n\u001b[0m",
      "\u001b[1;31mNameError\u001b[0m: name 'res' is not defined"
     ]
    },
    {
     "data": {
      "text/plain": [
       "<Figure size 1296x1296 with 0 Axes>"
      ]
     },
     "metadata": {},
     "output_type": "display_data"
    }
   ],
   "source": [
    "plt.figure(figsize=(18,18))\n",
    "plt.imshow(prob_viz(res, actions, image, colors))"
   ]
  },
  {
   "cell_type": "code",
   "execution_count": 19,
   "metadata": {},
   "outputs": [
    {
     "name": "stdout",
     "output_type": "stream",
     "text": [
      "<class 'mediapipe.python.solution_base.SolutionOutputs'>\n",
      "<class 'mediapipe.python.solution_base.SolutionOutputs'>\n",
      "<class 'mediapipe.python.solution_base.SolutionOutputs'>\n",
      "<class 'mediapipe.python.solution_base.SolutionOutputs'>\n",
      "<class 'mediapipe.python.solution_base.SolutionOutputs'>\n",
      "<class 'mediapipe.python.solution_base.SolutionOutputs'>\n",
      "<class 'mediapipe.python.solution_base.SolutionOutputs'>\n",
      "<class 'mediapipe.python.solution_base.SolutionOutputs'>\n",
      "<class 'mediapipe.python.solution_base.SolutionOutputs'>\n",
      "<class 'mediapipe.python.solution_base.SolutionOutputs'>\n",
      "<class 'mediapipe.python.solution_base.SolutionOutputs'>\n",
      "<class 'mediapipe.python.solution_base.SolutionOutputs'>\n",
      "<class 'mediapipe.python.solution_base.SolutionOutputs'>\n",
      "<class 'mediapipe.python.solution_base.SolutionOutputs'>\n",
      "<class 'mediapipe.python.solution_base.SolutionOutputs'>\n",
      "<class 'mediapipe.python.solution_base.SolutionOutputs'>\n",
      "<class 'mediapipe.python.solution_base.SolutionOutputs'>\n",
      "<class 'mediapipe.python.solution_base.SolutionOutputs'>\n",
      "<class 'mediapipe.python.solution_base.SolutionOutputs'>\n",
      "<class 'mediapipe.python.solution_base.SolutionOutputs'>\n",
      "<class 'mediapipe.python.solution_base.SolutionOutputs'>\n",
      "<class 'mediapipe.python.solution_base.SolutionOutputs'>\n",
      "<class 'mediapipe.python.solution_base.SolutionOutputs'>\n",
      "<class 'mediapipe.python.solution_base.SolutionOutputs'>\n",
      "<class 'mediapipe.python.solution_base.SolutionOutputs'>\n",
      "<class 'mediapipe.python.solution_base.SolutionOutputs'>\n",
      "<class 'mediapipe.python.solution_base.SolutionOutputs'>\n",
      "<class 'mediapipe.python.solution_base.SolutionOutputs'>\n",
      "<class 'mediapipe.python.solution_base.SolutionOutputs'>\n",
      "<class 'mediapipe.python.solution_base.SolutionOutputs'>\n",
      "1/1 [==============================] - 0s 26ms/step\n",
      "bravo\n"
     ]
    },
    {
     "ename": "IndexError",
     "evalue": "list index out of range",
     "output_type": "error",
     "traceback": [
      "\u001b[1;31m---------------------------------------------------------------------------\u001b[0m",
      "\u001b[1;31mIndexError\u001b[0m                                Traceback (most recent call last)",
      "\u001b[1;32m<ipython-input-19-5f2ad555cbdb>\u001b[0m in \u001b[0;36m<module>\u001b[1;34m\u001b[0m\n\u001b[0;32m     45\u001b[0m \u001b[1;33m\u001b[0m\u001b[0m\n\u001b[0;32m     46\u001b[0m             \u001b[1;31m# Viz probabilities\u001b[0m\u001b[1;33m\u001b[0m\u001b[1;33m\u001b[0m\u001b[1;33m\u001b[0m\u001b[0m\n\u001b[1;32m---> 47\u001b[1;33m             \u001b[0mimage\u001b[0m \u001b[1;33m=\u001b[0m \u001b[0mprob_viz\u001b[0m\u001b[1;33m(\u001b[0m\u001b[0mres\u001b[0m\u001b[1;33m,\u001b[0m \u001b[0mactions\u001b[0m\u001b[1;33m,\u001b[0m \u001b[0mimage\u001b[0m\u001b[1;33m,\u001b[0m \u001b[0mcolors\u001b[0m\u001b[1;33m)\u001b[0m\u001b[1;33m\u001b[0m\u001b[1;33m\u001b[0m\u001b[0m\n\u001b[0m\u001b[0;32m     48\u001b[0m \u001b[1;33m\u001b[0m\u001b[0m\n\u001b[0;32m     49\u001b[0m         \u001b[0mcv2\u001b[0m\u001b[1;33m.\u001b[0m\u001b[0mrectangle\u001b[0m\u001b[1;33m(\u001b[0m\u001b[0mimage\u001b[0m\u001b[1;33m,\u001b[0m \u001b[1;33m(\u001b[0m\u001b[1;36m0\u001b[0m\u001b[1;33m,\u001b[0m\u001b[1;36m0\u001b[0m\u001b[1;33m)\u001b[0m\u001b[1;33m,\u001b[0m \u001b[1;33m(\u001b[0m\u001b[1;36m640\u001b[0m\u001b[1;33m,\u001b[0m \u001b[1;36m40\u001b[0m\u001b[1;33m)\u001b[0m\u001b[1;33m,\u001b[0m \u001b[1;33m(\u001b[0m\u001b[1;36m245\u001b[0m\u001b[1;33m,\u001b[0m \u001b[1;36m117\u001b[0m\u001b[1;33m,\u001b[0m \u001b[1;36m16\u001b[0m\u001b[1;33m)\u001b[0m\u001b[1;33m,\u001b[0m \u001b[1;33m-\u001b[0m\u001b[1;36m1\u001b[0m\u001b[1;33m)\u001b[0m\u001b[1;33m\u001b[0m\u001b[1;33m\u001b[0m\u001b[0m\n",
      "\u001b[1;32m<ipython-input-16-e9bc22b256b7>\u001b[0m in \u001b[0;36mprob_viz\u001b[1;34m(res, actions, input_frame, colors)\u001b[0m\n\u001b[0;32m      3\u001b[0m     \u001b[0moutput_frame\u001b[0m \u001b[1;33m=\u001b[0m \u001b[0minput_frame\u001b[0m\u001b[1;33m.\u001b[0m\u001b[0mcopy\u001b[0m\u001b[1;33m(\u001b[0m\u001b[1;33m)\u001b[0m\u001b[1;33m\u001b[0m\u001b[1;33m\u001b[0m\u001b[0m\n\u001b[0;32m      4\u001b[0m     \u001b[1;32mfor\u001b[0m \u001b[0mnum\u001b[0m\u001b[1;33m,\u001b[0m \u001b[0mprob\u001b[0m \u001b[1;32min\u001b[0m \u001b[0menumerate\u001b[0m\u001b[1;33m(\u001b[0m\u001b[0mres\u001b[0m\u001b[1;33m)\u001b[0m\u001b[1;33m:\u001b[0m\u001b[1;33m\u001b[0m\u001b[1;33m\u001b[0m\u001b[0m\n\u001b[1;32m----> 5\u001b[1;33m         \u001b[0mcv2\u001b[0m\u001b[1;33m.\u001b[0m\u001b[0mrectangle\u001b[0m\u001b[1;33m(\u001b[0m\u001b[0moutput_frame\u001b[0m\u001b[1;33m,\u001b[0m \u001b[1;33m(\u001b[0m\u001b[1;36m0\u001b[0m\u001b[1;33m,\u001b[0m\u001b[1;36m60\u001b[0m\u001b[1;33m+\u001b[0m\u001b[0mnum\u001b[0m\u001b[1;33m*\u001b[0m\u001b[1;36m40\u001b[0m\u001b[1;33m)\u001b[0m\u001b[1;33m,\u001b[0m \u001b[1;33m(\u001b[0m\u001b[0mint\u001b[0m\u001b[1;33m(\u001b[0m\u001b[0mprob\u001b[0m\u001b[1;33m*\u001b[0m\u001b[1;36m100\u001b[0m\u001b[1;33m)\u001b[0m\u001b[1;33m,\u001b[0m \u001b[1;36m90\u001b[0m\u001b[1;33m+\u001b[0m\u001b[0mnum\u001b[0m\u001b[1;33m*\u001b[0m\u001b[1;36m40\u001b[0m\u001b[1;33m)\u001b[0m\u001b[1;33m,\u001b[0m \u001b[0mcolors\u001b[0m\u001b[1;33m[\u001b[0m\u001b[0mnum\u001b[0m\u001b[1;33m]\u001b[0m\u001b[1;33m,\u001b[0m \u001b[1;33m-\u001b[0m\u001b[1;36m1\u001b[0m\u001b[1;33m)\u001b[0m\u001b[1;33m\u001b[0m\u001b[1;33m\u001b[0m\u001b[0m\n\u001b[0m\u001b[0;32m      6\u001b[0m         \u001b[0mcv2\u001b[0m\u001b[1;33m.\u001b[0m\u001b[0mputText\u001b[0m\u001b[1;33m(\u001b[0m\u001b[0moutput_frame\u001b[0m\u001b[1;33m,\u001b[0m \u001b[0mactions\u001b[0m\u001b[1;33m[\u001b[0m\u001b[0mnum\u001b[0m\u001b[1;33m]\u001b[0m\u001b[1;33m,\u001b[0m \u001b[1;33m(\u001b[0m\u001b[1;36m0\u001b[0m\u001b[1;33m,\u001b[0m \u001b[1;36m85\u001b[0m\u001b[1;33m+\u001b[0m\u001b[0mnum\u001b[0m\u001b[1;33m*\u001b[0m\u001b[1;36m40\u001b[0m\u001b[1;33m)\u001b[0m\u001b[1;33m,\u001b[0m \u001b[0mcv2\u001b[0m\u001b[1;33m.\u001b[0m\u001b[0mFONT_HERSHEY_SIMPLEX\u001b[0m\u001b[1;33m,\u001b[0m \u001b[1;36m1\u001b[0m\u001b[1;33m,\u001b[0m \u001b[1;33m(\u001b[0m\u001b[1;36m255\u001b[0m\u001b[1;33m,\u001b[0m\u001b[1;36m255\u001b[0m\u001b[1;33m,\u001b[0m\u001b[1;36m255\u001b[0m\u001b[1;33m)\u001b[0m\u001b[1;33m,\u001b[0m \u001b[1;36m2\u001b[0m\u001b[1;33m,\u001b[0m \u001b[0mcv2\u001b[0m\u001b[1;33m.\u001b[0m\u001b[0mLINE_AA\u001b[0m\u001b[1;33m)\u001b[0m\u001b[1;33m\u001b[0m\u001b[1;33m\u001b[0m\u001b[0m\n\u001b[0;32m      7\u001b[0m \u001b[1;33m\u001b[0m\u001b[0m\n",
      "\u001b[1;31mIndexError\u001b[0m: list index out of range"
     ]
    },
    {
     "ename": "",
     "evalue": "",
     "output_type": "error",
     "traceback": [
      "\u001b[1;31mThe Kernel crashed while executing code in the the current cell or a previous cell. Please review the code in the cell(s) to identify a possible cause of the failure. Click <a href='https://aka.ms/vscodeJupyterKernelCrash'>here</a> for more info. View Jupyter <a href='command:jupyter.viewOutput'>log</a> for further details."
     ]
    }
   ],
   "source": [
    "# 1. New detection variables\n",
    "sequence = []\n",
    "sentence = []\n",
    "predictions = []\n",
    "threshold = 0.5\n",
    "\n",
    "cap = cv2.VideoCapture(0)\n",
    "# Set mediapipe model \n",
    "with mp_holistic.Holistic(min_detection_confidence=0.5, min_tracking_confidence=0.5) as holistic:\n",
    "    while cap.isOpened():\n",
    "\n",
    "        # Read feed\n",
    "        ret, frame = cap.read()\n",
    "\n",
    "        # Make detections\n",
    "        image, results = mediapipe_detection(frame, holistic)\n",
    "        print(results)\n",
    "        \n",
    "        # Draw landmarks\n",
    "        draw_styled_landmarks(image, results)\n",
    "        \n",
    "        # 2. Prediction logic\n",
    "        keypoints = extract_keypoints(results)\n",
    "        sequence.append(keypoints)\n",
    "        sequence = sequence[-30:]\n",
    "        \n",
    "        if len(sequence) == 30:\n",
    "            res = model.predict(np.expand_dims(sequence, axis=0))[0]\n",
    "            print(actions[np.argmax(res)])\n",
    "            predictions.append(np.argmax(res))\n",
    "            \n",
    "            \n",
    "        #3. Viz logic\n",
    "            if np.unique(predictions[-10:])[0]==np.argmax(res): \n",
    "                if res[np.argmax(res)] > threshold: \n",
    "                    \n",
    "                    if len(sentence) > 0: \n",
    "                        if actions[np.argmax(res)] != sentence[-1]:\n",
    "                            sentence.append(actions[np.argmax(res)])\n",
    "                    else:\n",
    "                        sentence.append(actions[np.argmax(res)])\n",
    "\n",
    "            if len(sentence) > 5: \n",
    "                sentence = sentence[-5:]\n",
    "\n",
    "            # Viz probabilities\n",
    "            # image = prob_viz(res, actions, image, colors)\n",
    "            \n",
    "        cv2.rectangle(image, (0,0), (640, 40), (245, 117, 16), -1)\n",
    "        cv2.putText(image, ' '.join(sentence), (3,30), \n",
    "                       cv2.FONT_HERSHEY_SIMPLEX, 1, (255, 255, 255), 2, cv2.LINE_AA)\n",
    "        \n",
    "        # Show to screen\n",
    "        cv2.imshow('OpenCV Feed', image)\n",
    "\n",
    "        # Break gracefully\n",
    "        if cv2.waitKey(10) & 0xFF == ord('q'):\n",
    "            break\n",
    "    cap.release()\n",
    "    cv2.destroyAllWindows()"
   ]
  }
 ],
 "metadata": {
  "kernelspec": {
   "display_name": "DSP",
   "language": "python",
   "name": "python3"
  },
  "language_info": {
   "codemirror_mode": {
    "name": "ipython",
    "version": 3
   },
   "file_extension": ".py",
   "mimetype": "text/x-python",
   "name": "python",
   "nbconvert_exporter": "python",
   "pygments_lexer": "ipython3",
   "version": "3.8.12 (default, Oct 12 2021, 03:01:40) [MSC v.1916 64 bit (AMD64)]"
  },
  "vscode": {
   "interpreter": {
    "hash": "7ce92715c2f324d247b1da65d42c5adc6f2ce663401ffa159ff6fefd8bd6c4dc"
   }
  }
 },
 "nbformat": 4,
 "nbformat_minor": 2
}
